{
 "cells": [
  {
   "cell_type": "markdown",
   "metadata": {},
   "source": [
    "# VAR Accuracy of Mixture Models vs GARCH"
   ]
  },
  {
   "cell_type": "code",
   "execution_count": 33,
   "metadata": {},
   "outputs": [
    {
     "name": "stdout",
     "output_type": "stream",
     "text": [
      "The watermark extension is already loaded. To reload it, use:\n",
      "  %reload_ext watermark\n",
      "Last updated: 2023-08-03T22:54:41.856141+02:00\n",
      "\n",
      "Python implementation: CPython\n",
      "Python version       : 3.10.12\n",
      "IPython version      : 8.12.0\n",
      "\n",
      "Compiler    : Clang 15.0.7 \n",
      "OS          : Darwin\n",
      "Release     : 22.5.0\n",
      "Machine     : arm64\n",
      "Processor   : arm\n",
      "CPU cores   : 8\n",
      "Architecture: 64bit\n",
      "\n",
      "The autoreload extension is already loaded. To reload it, use:\n",
      "  %reload_ext autoreload\n",
      "\n",
      "pandas           : 1.5.3\n",
      "pandas_datareader: 0.10.0\n",
      "numpy            : 1.23.5\n",
      "sklearn          : 1.2.2\n",
      "statsmodels      : 0.14.0\n",
      "scipy            : 1.10.1\n",
      "matplotlib       : 3.7.1\n",
      "seaborn          : 0.12.2\n",
      "plotnine         : 0.12.1\n",
      "\n"
     ]
    }
   ],
   "source": [
    "%load_ext watermark\n",
    "%watermark\n",
    "\n",
    "%load_ext autoreload\n",
    "%autoreload 2\n",
    "\n",
    "from IPython.display import display\n",
    "\n",
    "from pathlib import Path\n",
    "import sys\n",
    "import time\n",
    "import os\n",
    "from copy import copy\n",
    "\n",
    "script_dir =  \"../scripts\"\n",
    "sys.path.append(script_dir)\n",
    "\n",
    "import pandas as pd\n",
    "pd.options.display.float_format = '{:,.4f}'.format\n",
    "import pandas_datareader as pdr\n",
    "import numpy as np\n",
    "import sklearn.mixture as mix\n",
    "from sklearn.model_selection import TimeSeriesSplit\n",
    "import statsmodels.tsa.api as smt\n",
    "import statsmodels.api as sm\n",
    "import scipy.stats as stats\n",
    "from arch import arch_model\n",
    "from numba import jit\n",
    "import math\n",
    "\n",
    "from mpl_toolkits import mplot3d\n",
    "import matplotlib as mpl\n",
    "import matplotlib.pyplot as plt\n",
    "import matplotlib.gridspec as gridspec\n",
    "%matplotlib inline\n",
    "import plotnine as pn\n",
    "import mizani.breaks as mzb\n",
    "import mizani.formatters as mzf\n",
    "import seaborn as sns\n",
    "savefig_kwds=dict(dpi=300, bbox_inches='tight')\n",
    "\n",
    "from tqdm import tqdm\n",
    "import warnings\n",
    "warnings.filterwarnings(\"ignore\")\n",
    "from utils import cprint\n",
    "\n",
    "blue, gold, green, red, purple, brown = sns.color_palette('colorblind', 6)\n",
    "RANDOM_STATE = 777\n",
    "\n",
    "print()\n",
    "%watermark -p pandas,pandas_datareader,numpy,sklearn,statsmodels,scipy,matplotlib,seaborn,plotnine"
   ]
  },
  {
   "cell_type": "code",
   "execution_count": 34,
   "metadata": {},
   "outputs": [],
   "source": [
    "sns_params = {\n",
    "    \"axes.grid\": True,\n",
    "    \"ytick.left\": True,\n",
    "    \"xtick.bottom\": True,\n",
    "    \"xtick.major.size\": 2,\n",
    "    \"ytick.major.size\": 2,\n",
    "    \"font.size\": 11,\n",
    "    \"font.weight\": \"medium\",\n",
    "    \"figure.figsize\": (10, 7),\n",
    "    \"font.family\": \"DejaVu Sans Mono\",  # \"Ubuntu Mono\",\n",
    "}\n",
    "\n",
    "sns.set(context=\"poster\", style=\"ticks\", rc=sns_params)\n",
    "savefig_kwds = dict(dpi=90, bbox_inches=\"tight\", format=\"png\")\n",
    "flatui = [\"#3498db\", \"#9b59b6\", \"#95a5a6\", \"#e74c3c\", \"#34495e\", \"#2ecc71\", \"#f4cae4\"]\n",
    "sns.set_palette(sns.color_palette(flatui, 7))"
   ]
  },
  {
   "cell_type": "markdown",
   "metadata": {},
   "source": [
    "## Study Design\n",
    "\n",
    "1. choose symbol to test (stats.guassian_kde and garch are only univariate)\n",
    "2. collect model functions\n",
    "3. decide on frequency and sample splits\n",
    "4. iterate over train, test data \n",
    "    - collect forecasts\n",
    "    - compute results for forecast period\n",
    "    - collect results for forecast period\n",
    "5. aggregate results\n",
    "6. evaluate results and plots"
   ]
  },
  {
   "cell_type": "markdown",
   "metadata": {},
   "source": [
    "#### Import data"
   ]
  },
  {
   "cell_type": "code",
   "execution_count": 35,
   "metadata": {},
   "outputs": [
    {
     "name": "stdout",
     "output_type": "stream",
     "text": [
      "<class 'pandas.core.frame.DataFrame'>\n",
      "DatetimeIndex: 4105 entries, 2007-04-11 00:00:00+00:00 to 2023-07-31 00:00:00+00:00\n",
      "Data columns (total 10 columns):\n",
      " #   Column  Non-Null Count  Dtype  \n",
      "---  ------  --------------  -----  \n",
      " 0   SPY     4105 non-null   float64\n",
      " 1   QQQ     4105 non-null   float64\n",
      " 2   DIA     4105 non-null   float64\n",
      " 3   TLT     4105 non-null   float64\n",
      " 4   GLD     4105 non-null   float64\n",
      " 5   EFA     4105 non-null   float64\n",
      " 6   EEM     4105 non-null   float64\n",
      " 7   BND     4105 non-null   float64\n",
      " 8   VNQ     4105 non-null   float64\n",
      " 9   year    4105 non-null   int64  \n",
      "dtypes: float64(9), int64(1)\n",
      "memory usage: 352.8 KB\n"
     ]
    }
   ],
   "source": [
    "load_rs = '../data/etf_returns_2007-04-11-2023-07-31.csv'\n",
    "\n",
    "rs = (pd.read_csv(load_rs, index_col=[0])) \n",
    "rs.index = pd.DatetimeIndex(rs.index) \n",
    "rs = rs.assign(year=lambda df: df.index.year)\n",
    "\n",
    "rs.info()"
   ]
  },
  {
   "cell_type": "code",
   "execution_count": 36,
   "metadata": {},
   "outputs": [
    {
     "name": "stdout",
     "output_type": "stream",
     "text": [
      "<class 'pandas.core.frame.DataFrame'>\n",
      "DatetimeIndex: 3921 entries, 2008-01-02 00:00:00+00:00 to 2023-07-31 00:00:00+00:00\n",
      "Data columns (total 1 columns):\n",
      " #   Column  Non-Null Count  Dtype  \n",
      "---  ------  --------------  -----  \n",
      " 0   SPY     3921 non-null   float64\n",
      "dtypes: float64(1)\n",
      "memory usage: 61.3 KB\n"
     ]
    }
   ],
   "source": [
    "test_symbol = 'SPY'\n",
    "data = rs[test_symbol].to_frame().loc['2008':].copy()\n",
    "data.info()"
   ]
  },
  {
   "cell_type": "markdown",
   "metadata": {},
   "source": [
    "### Collect Model Functions"
   ]
  },
  {
   "cell_type": "code",
   "execution_count": 37,
   "metadata": {},
   "outputs": [],
   "source": [
    "def calc_quantile_var(data, alpha=0.05):\n",
    "    \"\"\"\n",
    "    compute var by quantile\n",
    "    \"\"\"\n",
    "    return data.quantile(alpha)"
   ]
  },
  {
   "cell_type": "markdown",
   "metadata": {},
   "source": [
    "#### Gaussian Mixture"
   ]
  },
  {
   "cell_type": "code",
   "execution_count": 38,
   "metadata": {},
   "outputs": [],
   "source": [
    "# gaussian mixture model, 2 components\n",
    "\n",
    "def gmm(data, n_components, max_iter=150, random_state=0, **kwds):\n",
    "    \"\"\"\n",
    "    gaussian mixture model by sklearn\n",
    "    \"\"\"\n",
    "    model = mix.GaussianMixture(n_components, max_iter=max_iter,\n",
    "                                random_state=random_state, **kwds)\n",
    "    model.fit(data)\n",
    "    return model"
   ]
  },
  {
   "cell_type": "code",
   "execution_count": 39,
   "metadata": {},
   "outputs": [],
   "source": [
    "def gmm_sample(data, n_components=2, max_iter=150, random_state=0,\n",
    "                     n_samples=1000, risky=True, **kwds):\n",
    "    \"\"\"\n",
    "    sample from the risky component\n",
    "    \"\"\"\n",
    "    model = gmm(data, n_components=n_components,\n",
    "                max_iter=max_iter, random_state=random_state, **kwds)\n",
    "    X_s, y_s = model.sample(n_samples)\n",
    "    df = pd.DataFrame(X_s, columns=data.columns).assign(component=y_s)\n",
    "    if not risky: \n",
    "        ser = pd.Series(X_s.ravel())\n",
    "        ser.name = 'gmm'\n",
    "        return ser\n",
    "    \n",
    "    risky = df.groupby('component').mean().mean(1).argmin()\n",
    "    ser = df.query('component==@risky').set_index('component').squeeze()\n",
    "    ser.name = 'gmm_risky'\n",
    "    return ser\n",
    "    "
   ]
  },
  {
   "cell_type": "code",
   "execution_count": 40,
   "metadata": {},
   "outputs": [
    {
     "data": {
      "text/plain": [
       "-0.01865220081089966"
      ]
     },
     "execution_count": 40,
     "metadata": {},
     "output_type": "execute_result"
    }
   ],
   "source": [
    "def calc_gmm_var(data, n_components=2, max_iter=150, random_state=0, \n",
    "                 n_samples=1000, risky=True, **kwds):\n",
    "    \"\"\"\n",
    "    compute quantile var for gmm risky component\n",
    "    \"\"\"\n",
    "    gmm_samples = gmm_sample(data, 2, risky=risky)\n",
    "    return calc_quantile_var(gmm_samples)\n",
    "\n",
    "gmm_var = calc_gmm_var(data, risky=False)\n",
    "gmm_var"
   ]
  },
  {
   "cell_type": "markdown",
   "metadata": {},
   "source": [
    "#### Garch"
   ]
  },
  {
   "cell_type": "code",
   "execution_count": 41,
   "metadata": {},
   "outputs": [
    {
     "data": {
      "text/plain": [
       "-0.014972429536115323"
      ]
     },
     "execution_count": 41,
     "metadata": {},
     "output_type": "execute_result"
    }
   ],
   "source": [
    "# garch model 1,0,1\n",
    "def garch(data, p=1, o=0, q=1, update_freq=5, **kwds):\n",
    "    model = arch_model(data, 'Garch', p=p, o=o, q=q, **kwds)\n",
    "    res = model.fit(update_freq=update_freq, disp='off')\n",
    "    return res\n",
    "\n",
    "def garch_forecast_sim(data, p=1, o=0, q=1, update_freq=5,\n",
    "                       horizon=30, n_simulations=1000, **kwds):\n",
    "    np.random.seed(0)\n",
    "    garch_model = garch(data,p=p,o=o,q=q,update_freq=update_freq) \n",
    "    forecasts = garch_model.forecast(\n",
    "        horizon=horizon, method='simulation',simulations=n_simulations)\n",
    "    sim_ser = pd.Series(forecasts.simulations.values[-1,:,-1])\n",
    "    sim_ser.name = 'garch'    \n",
    "    return sim_ser\n",
    "\n",
    "def calc_garch_var(data, p=1, o=0, q=1, update_freq=5, horizon=30, n_simulations=1000, alpha=0.05, **kwds):\n",
    "    sim_ser = garch_forecast_sim(data, p=p, o=o, q=q, update_freq=update_freq,\n",
    "                                 horizon=horizon, n_simulations=n_simulations//horizon, **kwds)\n",
    "    var = calc_quantile_var(sim_ser, alpha=alpha)\n",
    "    return var\n",
    "\n",
    "calc_garch_var(data, n_simulations=10000)"
   ]
  },
  {
   "cell_type": "code",
   "execution_count": 42,
   "metadata": {},
   "outputs": [
    {
     "data": {
      "text/plain": [
       "-0.01616600927932527"
      ]
     },
     "execution_count": 42,
     "metadata": {},
     "output_type": "execute_result"
    }
   ],
   "source": [
    "calc_garch_var(data, n_simulations=10000, dist='studentT')"
   ]
  },
  {
   "cell_type": "markdown",
   "metadata": {},
   "source": [
    "#### Gaussian KDE"
   ]
  },
  {
   "cell_type": "code",
   "execution_count": 43,
   "metadata": {},
   "outputs": [
    {
     "data": {
      "text/plain": [
       "-0.01942707008401202"
      ]
     },
     "execution_count": 43,
     "metadata": {},
     "output_type": "execute_result"
    }
   ],
   "source": [
    "# guassian kde\n",
    "def gkde(data, **kwds):\n",
    "    if isinstance(data, pd.DataFrame): data=data.squeeze()\n",
    "    return stats.gaussian_kde(data, **kwds)\n",
    "\n",
    "def sample_gaussian_kde(data, n_samples=1000, **kwds):\n",
    "    np.random.seed(0)\n",
    "    model = gkde(data, **kwds)\n",
    "    samples = model.resample(n_samples).ravel()\n",
    "    ser = pd.Series(samples)\n",
    "    ser.name = 'gaussian_kde'\n",
    "    return ser\n",
    "\n",
    "def calc_gaussian_kde_var(data, n_samples=1000, alpha=0.05, **kwds):\n",
    "    samples = sample_gaussian_kde(data, n_samples=n_samples, **kwds)\n",
    "    return calc_quantile_var(samples, alpha=alpha)\n",
    "\n",
    "calc_gaussian_kde_var(data)"
   ]
  },
  {
   "cell_type": "markdown",
   "metadata": {},
   "source": [
    "#### Historical "
   ]
  },
  {
   "cell_type": "code",
   "execution_count": 44,
   "metadata": {},
   "outputs": [
    {
     "data": {
      "text/plain": [
       "-0.0195714401492873"
      ]
     },
     "execution_count": 44,
     "metadata": {},
     "output_type": "execute_result"
    }
   ],
   "source": [
    "# historical var\n",
    "\n",
    "def calc_historical_var(data, alpha=0.05): \n",
    "    if isinstance(data, pd.DataFrame): data=data.squeeze()\n",
    "    return calc_quantile_var(data, alpha=alpha)\n",
    "\n",
    "calc_historical_var(data)"
   ]
  },
  {
   "cell_type": "code",
   "execution_count": 45,
   "metadata": {},
   "outputs": [
    {
     "data": {
      "image/png": "[encoded data removed]",
      "text/plain": [
       "<Figure size 1000x700 with 1 Axes>"
      ]
     },
     "metadata": {},
     "output_type": "display_data"
    }
   ],
   "source": [
    "def plot_hist_samples(samples, ax=None):\n",
    "    if not ax: ax = plt.gca()\n",
    "    \n",
    "    sns.distplot(samples, ax=ax, label=samples.name, \n",
    "                 hist=False, kde_kws={'shade':True})\n",
    "    ax.legend()\n",
    "    \n",
    "plot_hist_samples(sample_gaussian_kde(data))    "
   ]
  },
  {
   "cell_type": "code",
   "execution_count": 46,
   "metadata": {},
   "outputs": [
    {
     "data": {
      "image/png": "[encoded data removed]",
      "text/plain": [
       "<Figure size 1000x700 with 1 Axes>"
      ]
     },
     "metadata": {},
     "output_type": "display_data"
    }
   ],
   "source": [
    "gmm_samples = gmm_sample(data, 2)\n",
    "garch_samples = garch_forecast_sim(data)\n",
    "g_kde_samples = sample_gaussian_kde(data)\n",
    "hist_data = data.squeeze()\n",
    "\n",
    "sample_series = [gmm_samples, garch_samples, g_kde_samples, hist_data]\n",
    "f, ax = plt.subplots(figsize=(10,7))\n",
    "for s in sample_series:\n",
    "    plot_hist_samples(s, ax=ax)"
   ]
  },
  {
   "cell_type": "markdown",
   "metadata": {},
   "source": [
    "## Run VAR model"
   ]
  },
  {
   "cell_type": "code",
   "execution_count": 47,
   "metadata": {},
   "outputs": [
    {
     "data": {
      "text/plain": [
       "DatetimeIndex(['2008-01-31 00:00:00+00:00', '2008-02-29 00:00:00+00:00',\n",
       "               '2008-03-31 00:00:00+00:00', '2008-04-30 00:00:00+00:00',\n",
       "               '2008-05-31 00:00:00+00:00', '2008-06-30 00:00:00+00:00',\n",
       "               '2008-07-31 00:00:00+00:00', '2008-08-31 00:00:00+00:00',\n",
       "               '2008-09-30 00:00:00+00:00', '2008-10-31 00:00:00+00:00',\n",
       "               ...\n",
       "               '2022-10-31 00:00:00+00:00', '2022-11-30 00:00:00+00:00',\n",
       "               '2022-12-31 00:00:00+00:00', '2023-01-31 00:00:00+00:00',\n",
       "               '2023-02-28 00:00:00+00:00', '2023-03-31 00:00:00+00:00',\n",
       "               '2023-04-30 00:00:00+00:00', '2023-05-31 00:00:00+00:00',\n",
       "               '2023-06-30 00:00:00+00:00', '2023-07-31 00:00:00+00:00'],\n",
       "              dtype='datetime64[ns, UTC]', name='date', length=187, freq='M')"
      ]
     },
     "execution_count": 47,
     "metadata": {},
     "output_type": "execute_result"
    }
   ],
   "source": [
    "month_index = data.resample('M').mean().index\n",
    "month_index"
   ]
  },
  {
   "cell_type": "code",
   "execution_count": 48,
   "metadata": {},
   "outputs": [
    {
     "name": "stdout",
     "output_type": "stream",
     "text": [
      "index 187 is out of bounds for axis 0 with size 187\n"
     ]
    }
   ],
   "source": [
    "import warnings\n",
    "warnings.filterwarnings('ignore')\n",
    "warnings.simplefilter('ignore')\n",
    "\n",
    "np.random.seed(0)\n",
    "\n",
    "lookback = 252\n",
    "\n",
    "# stash model predictions\n",
    "keys = ['gmm', 'gmm_risky', 'garch_normal', 'garch_t', 'garch_skewt', 'gkde', 'historical']\n",
    "predictions = dict.fromkeys(keys)\n",
    "\n",
    "for k in predictions.keys(): predictions[k] = []\n",
    "\n",
    "# stash actual minimum returns for next period\n",
    "min_month_returns = []\n",
    "\n",
    "### begin model code ###\n",
    "\n",
    "for i, month_end in enumerate(month_index):\n",
    "    try:\n",
    "        if not data.loc[:month_end].shape[0] > lookback: continue\n",
    "\n",
    "        train = data.loc[:month_end].iloc[-lookback:]\n",
    "        test = data.loc[month_end+pd.Timedelta(days=1):month_index[i+1]]\n",
    "\n",
    "        # calc vars\n",
    "        gmm_var = calc_gmm_var(train, risky=False)\n",
    "        gmm_risky_var = calc_gmm_var(train, risky=True)\n",
    "        garch_norm_var = calc_garch_var(train, n_simulations=10000, dist='Normal')\n",
    "        garch_t_var = calc_garch_var(train, n_simulations=10000, dist='StudentT')\n",
    "        garch_skewt_var = calc_garch_var(train, n_simulations=10000, dist='skewt')\n",
    "        gkde_var = calc_gaussian_kde_var(train)\n",
    "        hist_var = calc_historical_var(train)    \n",
    "\n",
    "        train_vars = [gmm_var, gmm_risky_var,\n",
    "                      garch_norm_var, garch_t_var, garch_skewt_var,\n",
    "                      gkde_var, hist_var]\n",
    "        for k, var in zip(predictions.keys(), train_vars): predictions[k].append(var)\n",
    "\n",
    "        min_month_returns.append(test.squeeze().min())\n",
    "    except Exception as error:\n",
    "        print(error)\n",
    "    "
   ]
  },
  {
   "cell_type": "markdown",
   "metadata": {},
   "source": [
    "## Evaluate MAPE results\n",
    "\n",
    "In this experiment we will use [Mean Absolute Percentage Error (MAPE)](https://en.wikipedia.org/wiki/Mean_absolute_percentage_error) to evaluate the VAR prediction results. This is a relatively easy to interpret measure of the prediction error."
   ]
  },
  {
   "cell_type": "code",
   "execution_count": 49,
   "metadata": {},
   "outputs": [
    {
     "data": {
      "text/plain": [
       "garch_normal    -56.0508\n",
       "garch_t         -56.1954\n",
       "garch_skewt     -58.8320\n",
       "historical      -67.3777\n",
       "gmm             -68.1991\n",
       "gkde            -70.7481\n",
       "gmm_risky      -115.4458\n",
       "Name: 0, dtype: float64"
      ]
     },
     "execution_count": 49,
     "metadata": {},
     "output_type": "execute_result"
    }
   ],
   "source": [
    "# https://stackoverflow.com/questions/42250958/how-to-optimize-mape-code-in-python/42251083#42251083\n",
    "\n",
    "def mape_vectorized_v2(actual, predict): \n",
    "    mask = actual != 0\n",
    "    return (np.fabs(actual - predict)/actual)[mask].mean() \n",
    "\n",
    "model_errors = dict.fromkeys(keys)\n",
    "for k in model_errors.keys(): model_errors[k] = []\n",
    "    \n",
    "actual = np.asarray(min_month_returns)\n",
    "for k, predict in predictions.items():\n",
    "    model_errors[k].append(mape_vectorized_v2(actual, predict))\n",
    "\n",
    "error_df = (pd.DataFrame.\n",
    "            from_dict(model_errors)\n",
    "            .T\n",
    "            .squeeze()\n",
    "            .sort_values(ascending=False)*100.)\n",
    "error_df"
   ]
  },
  {
   "cell_type": "markdown",
   "metadata": {},
   "source": [
    "### Test model for other symbols"
   ]
  },
  {
   "cell_type": "code",
   "execution_count": 50,
   "metadata": {},
   "outputs": [],
   "source": [
    "def run_model(return_dataframe, symbol, keys, lookback=252):\n",
    "    \n",
    "    # get data\n",
    "    data = return_dataframe[symbol].to_frame().loc['2008':].copy()    \n",
    "    \n",
    "    np.random.seed(0)\n",
    "\n",
    "    # stash model predictions\n",
    "    predictions = dict.fromkeys(keys)\n",
    "    for k in predictions.keys(): predictions[k] = []\n",
    "\n",
    "    # stash actual minimum returns for next period\n",
    "    min_month_returns = []\n",
    "\n",
    "    ### begin model code ###\n",
    "\n",
    "    for i, month_end in enumerate(month_index):\n",
    "        sys.stdout.write('.')\n",
    "        sys.stdout.flush()        \n",
    "        try:\n",
    "            if not data.loc[:month_end].shape[0] > lookback: continue\n",
    "\n",
    "            train = data.loc[:month_end].iloc[-lookback:]\n",
    "            test = data.loc[month_end+pd.Timedelta(days=1):month_index[i+1]]\n",
    "\n",
    "            # calc vars\n",
    "            gmm_var = calc_gmm_var(train, risky=False)\n",
    "            gmm_risky_var = calc_gmm_var(train, risky=True)\n",
    "            garch_norm_var = calc_garch_var(train, n_simulations=10000, dist='Normal')\n",
    "            garch_t_var = calc_garch_var(train, n_simulations=10000, dist='StudentT')\n",
    "            garch_skewt_var = calc_garch_var(train, n_simulations=10000, dist='skewt')\n",
    "            gkde_var = calc_gaussian_kde_var(train)\n",
    "            hist_var = calc_historical_var(train)    \n",
    "\n",
    "            train_vars = [gmm_var, gmm_risky_var,\n",
    "                          garch_norm_var, garch_t_var, garch_skewt_var,\n",
    "                          gkde_var, hist_var]\n",
    "            for k, var in zip(predictions.keys(), train_vars): predictions[k].append(var)\n",
    "\n",
    "            min_month_returns.append(test.squeeze().min())\n",
    "        except Exception as e:\n",
    "            print(e)\n",
    "        \n",
    "    return min_month_returns, predictions"
   ]
  },
  {
   "cell_type": "code",
   "execution_count": 51,
   "metadata": {},
   "outputs": [],
   "source": [
    "def calc_model_mape(actual, predictions, symbol, keys):\n",
    "    # https://stackoverflow.com/questions/42250958/how-to-optimize-mape-code-in-python/42251083#42251083\n",
    "\n",
    "    def mape_vectorized_v2(actual, predict): \n",
    "        mask = actual != 0\n",
    "        return (np.fabs(actual - predict)/actual)[mask].mean() \n",
    "\n",
    "    model_errors = dict.fromkeys(keys)\n",
    "    for k in model_errors.keys(): model_errors[k] = []\n",
    "\n",
    "    actual = np.asarray(min_month_returns)\n",
    "    for k, predict in predictions.items():\n",
    "        model_errors[k].append(mape_vectorized_v2(actual, predict))\n",
    "\n",
    "    error_df = (pd.DataFrame.\n",
    "                from_dict(model_errors)\n",
    "                .T\n",
    "                .squeeze()\n",
    "                .sort_values(ascending=False)*100.)\n",
    "    error_df.name = symbol\n",
    "    return error_df    "
   ]
  },
  {
   "cell_type": "code",
   "execution_count": 52,
   "metadata": {},
   "outputs": [
    {
     "name": "stdout",
     "output_type": "stream",
     "text": [
      "............................................................................................................................................................................................index 187 is out of bounds for axis 0 with size 187\n",
      "............................................................................................................................."
     ]
    },
    {
     "name": "stderr",
     "output_type": "stream",
     "text": [
      "/Users/maximilian/miniconda3/envs/py310/lib/python3.10/site-packages/arch/univariate/base.py:766: ConvergenceWarning: The optimizer returned code 4. The message is:\n",
      "Inequality constraints incompatible\n",
      "See scipy.optimize.fmin_slsqp for code meaning.\n",
      "\n",
      "/Users/maximilian/miniconda3/envs/py310/lib/python3.10/site-packages/arch/univariate/base.py:766: ConvergenceWarning: The optimizer returned code 4. The message is:\n",
      "Inequality constraints incompatible\n",
      "See scipy.optimize.fmin_slsqp for code meaning.\n",
      "\n",
      "/Users/maximilian/miniconda3/envs/py310/lib/python3.10/site-packages/arch/univariate/base.py:766: ConvergenceWarning: The optimizer returned code 4. The message is:\n",
      "Inequality constraints incompatible\n",
      "See scipy.optimize.fmin_slsqp for code meaning.\n",
      "\n"
     ]
    },
    {
     "name": "stdout",
     "output_type": "stream",
     "text": [
      "...............................................................index 187 is out of bounds for axis 0 with size 187\n",
      "......................................................................................................................."
     ]
    },
    {
     "name": "stderr",
     "output_type": "stream",
     "text": [
      "/Users/maximilian/miniconda3/envs/py310/lib/python3.10/site-packages/arch/univariate/base.py:766: ConvergenceWarning: The optimizer returned code 4. The message is:\n",
      "Inequality constraints incompatible\n",
      "See scipy.optimize.fmin_slsqp for code meaning.\n",
      "\n",
      "/Users/maximilian/miniconda3/envs/py310/lib/python3.10/site-packages/arch/univariate/base.py:766: ConvergenceWarning: The optimizer returned code 4. The message is:\n",
      "Inequality constraints incompatible\n",
      "See scipy.optimize.fmin_slsqp for code meaning.\n",
      "\n",
      "/Users/maximilian/miniconda3/envs/py310/lib/python3.10/site-packages/arch/univariate/base.py:766: ConvergenceWarning: The optimizer returned code 4. The message is:\n",
      "Inequality constraints incompatible\n",
      "See scipy.optimize.fmin_slsqp for code meaning.\n",
      "\n"
     ]
    },
    {
     "name": "stdout",
     "output_type": "stream",
     "text": [
      ".....................................................................index 187 is out of bounds for axis 0 with size 187\n",
      "..........................................................................................."
     ]
    },
    {
     "name": "stderr",
     "output_type": "stream",
     "text": [
      "/Users/maximilian/miniconda3/envs/py310/lib/python3.10/site-packages/arch/univariate/base.py:766: ConvergenceWarning: The optimizer returned code 8. The message is:\n",
      "Positive directional derivative for linesearch\n",
      "See scipy.optimize.fmin_slsqp for code meaning.\n",
      "\n",
      "/Users/maximilian/miniconda3/envs/py310/lib/python3.10/site-packages/arch/univariate/base.py:766: ConvergenceWarning: The optimizer returned code 8. The message is:\n",
      "Positive directional derivative for linesearch\n",
      "See scipy.optimize.fmin_slsqp for code meaning.\n",
      "\n",
      "/Users/maximilian/miniconda3/envs/py310/lib/python3.10/site-packages/arch/univariate/base.py:766: ConvergenceWarning: The optimizer returned code 8. The message is:\n",
      "Positive directional derivative for linesearch\n",
      "See scipy.optimize.fmin_slsqp for code meaning.\n",
      "\n"
     ]
    },
    {
     "name": "stdout",
     "output_type": "stream",
     "text": [
      ".................................................................................................index 187 is out of bounds for axis 0 with size 187\n",
      "..................................................................................................."
     ]
    },
    {
     "name": "stderr",
     "output_type": "stream",
     "text": [
      "/Users/maximilian/miniconda3/envs/py310/lib/python3.10/site-packages/arch/univariate/base.py:766: ConvergenceWarning: The optimizer returned code 4. The message is:\n",
      "Inequality constraints incompatible\n",
      "See scipy.optimize.fmin_slsqp for code meaning.\n",
      "\n",
      "/Users/maximilian/miniconda3/envs/py310/lib/python3.10/site-packages/arch/univariate/base.py:766: ConvergenceWarning: The optimizer returned code 4. The message is:\n",
      "Inequality constraints incompatible\n",
      "See scipy.optimize.fmin_slsqp for code meaning.\n",
      "\n",
      "/Users/maximilian/miniconda3/envs/py310/lib/python3.10/site-packages/arch/univariate/base.py:766: ConvergenceWarning: The optimizer returned code 4. The message is:\n",
      "Inequality constraints incompatible\n",
      "See scipy.optimize.fmin_slsqp for code meaning.\n",
      "\n"
     ]
    },
    {
     "name": "stdout",
     "output_type": "stream",
     "text": [
      ".........................................................................................index 187 is out of bounds for axis 0 with size 187\n",
      ".........................................................................................................................."
     ]
    },
    {
     "name": "stderr",
     "output_type": "stream",
     "text": [
      "/Users/maximilian/miniconda3/envs/py310/lib/python3.10/site-packages/arch/univariate/base.py:766: ConvergenceWarning: The optimizer returned code 4. The message is:\n",
      "Inequality constraints incompatible\n",
      "See scipy.optimize.fmin_slsqp for code meaning.\n",
      "\n",
      "/Users/maximilian/miniconda3/envs/py310/lib/python3.10/site-packages/arch/univariate/base.py:766: ConvergenceWarning: The optimizer returned code 4. The message is:\n",
      "Inequality constraints incompatible\n",
      "See scipy.optimize.fmin_slsqp for code meaning.\n",
      "\n",
      "/Users/maximilian/miniconda3/envs/py310/lib/python3.10/site-packages/arch/univariate/base.py:766: ConvergenceWarning: The optimizer returned code 4. The message is:\n",
      "Inequality constraints incompatible\n",
      "See scipy.optimize.fmin_slsqp for code meaning.\n",
      "\n"
     ]
    },
    {
     "name": "stdout",
     "output_type": "stream",
     "text": [
      "..................................................................index 187 is out of bounds for axis 0 with size 187\n",
      "............................................................................................................................................................................................index 187 is out of bounds for axis 0 with size 187\n",
      "..........................."
     ]
    },
    {
     "name": "stderr",
     "output_type": "stream",
     "text": [
      "/Users/maximilian/miniconda3/envs/py310/lib/python3.10/site-packages/arch/univariate/base.py:766: ConvergenceWarning: The optimizer returned code 4. The message is:\n",
      "Inequality constraints incompatible\n",
      "See scipy.optimize.fmin_slsqp for code meaning.\n",
      "\n",
      "/Users/maximilian/miniconda3/envs/py310/lib/python3.10/site-packages/arch/univariate/base.py:766: ConvergenceWarning: The optimizer returned code 4. The message is:\n",
      "Inequality constraints incompatible\n",
      "See scipy.optimize.fmin_slsqp for code meaning.\n",
      "\n",
      "/Users/maximilian/miniconda3/envs/py310/lib/python3.10/site-packages/arch/univariate/base.py:766: ConvergenceWarning: The optimizer returned code 4. The message is:\n",
      "Inequality constraints incompatible\n",
      "See scipy.optimize.fmin_slsqp for code meaning.\n",
      "\n",
      "/Users/maximilian/miniconda3/envs/py310/lib/python3.10/site-packages/arch/univariate/base.py:766: ConvergenceWarning: The optimizer returned code 4. The message is:\n",
      "Inequality constraints incompatible\n",
      "See scipy.optimize.fmin_slsqp for code meaning.\n",
      "\n",
      "/Users/maximilian/miniconda3/envs/py310/lib/python3.10/site-packages/arch/univariate/base.py:766: ConvergenceWarning: The optimizer returned code 4. The message is:\n",
      "Inequality constraints incompatible\n",
      "See scipy.optimize.fmin_slsqp for code meaning.\n",
      "\n",
      "/Users/maximilian/miniconda3/envs/py310/lib/python3.10/site-packages/arch/univariate/base.py:766: ConvergenceWarning: The optimizer returned code 4. The message is:\n",
      "Inequality constraints incompatible\n",
      "See scipy.optimize.fmin_slsqp for code meaning.\n",
      "\n",
      "/Users/maximilian/miniconda3/envs/py310/lib/python3.10/site-packages/arch/univariate/base.py:766: ConvergenceWarning: The optimizer returned code 4. The message is:\n",
      "Inequality constraints incompatible\n",
      "See scipy.optimize.fmin_slsqp for code meaning.\n",
      "\n"
     ]
    },
    {
     "name": "stdout",
     "output_type": "stream",
     "text": [
      "..."
     ]
    },
    {
     "name": "stderr",
     "output_type": "stream",
     "text": [
      "/Users/maximilian/miniconda3/envs/py310/lib/python3.10/site-packages/arch/univariate/base.py:766: ConvergenceWarning: The optimizer returned code 4. The message is:\n",
      "Inequality constraints incompatible\n",
      "See scipy.optimize.fmin_slsqp for code meaning.\n",
      "\n",
      "/Users/maximilian/miniconda3/envs/py310/lib/python3.10/site-packages/arch/univariate/base.py:766: ConvergenceWarning: The optimizer returned code 4. The message is:\n",
      "Inequality constraints incompatible\n",
      "See scipy.optimize.fmin_slsqp for code meaning.\n",
      "\n",
      "/Users/maximilian/miniconda3/envs/py310/lib/python3.10/site-packages/arch/univariate/base.py:766: ConvergenceWarning: The optimizer returned code 4. The message is:\n",
      "Inequality constraints incompatible\n",
      "See scipy.optimize.fmin_slsqp for code meaning.\n",
      "\n",
      "/Users/maximilian/miniconda3/envs/py310/lib/python3.10/site-packages/arch/univariate/base.py:766: ConvergenceWarning: The optimizer returned code 4. The message is:\n",
      "Inequality constraints incompatible\n",
      "See scipy.optimize.fmin_slsqp for code meaning.\n",
      "\n",
      "/Users/maximilian/miniconda3/envs/py310/lib/python3.10/site-packages/arch/univariate/base.py:766: ConvergenceWarning: The optimizer returned code 4. The message is:\n",
      "Inequality constraints incompatible\n",
      "See scipy.optimize.fmin_slsqp for code meaning.\n",
      "\n",
      "/Users/maximilian/miniconda3/envs/py310/lib/python3.10/site-packages/arch/univariate/base.py:766: ConvergenceWarning: The optimizer returned code 4. The message is:\n",
      "Inequality constraints incompatible\n",
      "See scipy.optimize.fmin_slsqp for code meaning.\n",
      "\n",
      "/Users/maximilian/miniconda3/envs/py310/lib/python3.10/site-packages/arch/univariate/base.py:766: ConvergenceWarning: The optimizer returned code 4. The message is:\n",
      "Inequality constraints incompatible\n",
      "See scipy.optimize.fmin_slsqp for code meaning.\n",
      "\n",
      "/Users/maximilian/miniconda3/envs/py310/lib/python3.10/site-packages/arch/univariate/base.py:766: ConvergenceWarning: The optimizer returned code 4. The message is:\n",
      "Inequality constraints incompatible\n",
      "See scipy.optimize.fmin_slsqp for code meaning.\n",
      "\n"
     ]
    },
    {
     "name": "stdout",
     "output_type": "stream",
     "text": [
      "...."
     ]
    },
    {
     "name": "stderr",
     "output_type": "stream",
     "text": [
      "/Users/maximilian/miniconda3/envs/py310/lib/python3.10/site-packages/arch/univariate/base.py:766: ConvergenceWarning: The optimizer returned code 4. The message is:\n",
      "Inequality constraints incompatible\n",
      "See scipy.optimize.fmin_slsqp for code meaning.\n",
      "\n",
      "/Users/maximilian/miniconda3/envs/py310/lib/python3.10/site-packages/arch/univariate/base.py:766: ConvergenceWarning: The optimizer returned code 4. The message is:\n",
      "Inequality constraints incompatible\n",
      "See scipy.optimize.fmin_slsqp for code meaning.\n",
      "\n",
      "/Users/maximilian/miniconda3/envs/py310/lib/python3.10/site-packages/arch/univariate/base.py:766: ConvergenceWarning: The optimizer returned code 4. The message is:\n",
      "Inequality constraints incompatible\n",
      "See scipy.optimize.fmin_slsqp for code meaning.\n",
      "\n",
      "/Users/maximilian/miniconda3/envs/py310/lib/python3.10/site-packages/arch/univariate/base.py:766: ConvergenceWarning: The optimizer returned code 4. The message is:\n",
      "Inequality constraints incompatible\n",
      "See scipy.optimize.fmin_slsqp for code meaning.\n",
      "\n",
      "/Users/maximilian/miniconda3/envs/py310/lib/python3.10/site-packages/arch/univariate/base.py:766: ConvergenceWarning: The optimizer returned code 4. The message is:\n",
      "Inequality constraints incompatible\n",
      "See scipy.optimize.fmin_slsqp for code meaning.\n",
      "\n",
      "/Users/maximilian/miniconda3/envs/py310/lib/python3.10/site-packages/arch/univariate/base.py:766: ConvergenceWarning: The optimizer returned code 4. The message is:\n",
      "Inequality constraints incompatible\n",
      "See scipy.optimize.fmin_slsqp for code meaning.\n",
      "\n",
      "/Users/maximilian/miniconda3/envs/py310/lib/python3.10/site-packages/arch/univariate/base.py:766: ConvergenceWarning: The optimizer returned code 4. The message is:\n",
      "Inequality constraints incompatible\n",
      "See scipy.optimize.fmin_slsqp for code meaning.\n",
      "\n"
     ]
    },
    {
     "name": "stdout",
     "output_type": "stream",
     "text": [
      "..."
     ]
    },
    {
     "name": "stderr",
     "output_type": "stream",
     "text": [
      "/Users/maximilian/miniconda3/envs/py310/lib/python3.10/site-packages/arch/univariate/base.py:766: ConvergenceWarning: The optimizer returned code 4. The message is:\n",
      "Inequality constraints incompatible\n",
      "See scipy.optimize.fmin_slsqp for code meaning.\n",
      "\n",
      "/Users/maximilian/miniconda3/envs/py310/lib/python3.10/site-packages/arch/univariate/base.py:766: ConvergenceWarning: The optimizer returned code 4. The message is:\n",
      "Inequality constraints incompatible\n",
      "See scipy.optimize.fmin_slsqp for code meaning.\n",
      "\n",
      "/Users/maximilian/miniconda3/envs/py310/lib/python3.10/site-packages/arch/univariate/base.py:766: ConvergenceWarning: The optimizer returned code 4. The message is:\n",
      "Inequality constraints incompatible\n",
      "See scipy.optimize.fmin_slsqp for code meaning.\n",
      "\n"
     ]
    },
    {
     "name": "stdout",
     "output_type": "stream",
     "text": [
      "..."
     ]
    },
    {
     "name": "stderr",
     "output_type": "stream",
     "text": [
      "/Users/maximilian/miniconda3/envs/py310/lib/python3.10/site-packages/arch/univariate/base.py:766: ConvergenceWarning: The optimizer returned code 4. The message is:\n",
      "Inequality constraints incompatible\n",
      "See scipy.optimize.fmin_slsqp for code meaning.\n",
      "\n",
      "/Users/maximilian/miniconda3/envs/py310/lib/python3.10/site-packages/arch/univariate/base.py:766: ConvergenceWarning: The optimizer returned code 4. The message is:\n",
      "Inequality constraints incompatible\n",
      "See scipy.optimize.fmin_slsqp for code meaning.\n",
      "\n",
      "/Users/maximilian/miniconda3/envs/py310/lib/python3.10/site-packages/arch/univariate/base.py:766: ConvergenceWarning: The optimizer returned code 4. The message is:\n",
      "Inequality constraints incompatible\n",
      "See scipy.optimize.fmin_slsqp for code meaning.\n",
      "\n",
      "/Users/maximilian/miniconda3/envs/py310/lib/python3.10/site-packages/arch/univariate/base.py:766: ConvergenceWarning: The optimizer returned code 4. The message is:\n",
      "Inequality constraints incompatible\n",
      "See scipy.optimize.fmin_slsqp for code meaning.\n",
      "\n",
      "/Users/maximilian/miniconda3/envs/py310/lib/python3.10/site-packages/arch/univariate/base.py:766: ConvergenceWarning: The optimizer returned code 4. The message is:\n",
      "Inequality constraints incompatible\n",
      "See scipy.optimize.fmin_slsqp for code meaning.\n",
      "\n"
     ]
    },
    {
     "name": "stdout",
     "output_type": "stream",
     "text": [
      "..."
     ]
    },
    {
     "name": "stderr",
     "output_type": "stream",
     "text": [
      "/Users/maximilian/miniconda3/envs/py310/lib/python3.10/site-packages/arch/univariate/base.py:766: ConvergenceWarning: The optimizer returned code 4. The message is:\n",
      "Inequality constraints incompatible\n",
      "See scipy.optimize.fmin_slsqp for code meaning.\n",
      "\n",
      "/Users/maximilian/miniconda3/envs/py310/lib/python3.10/site-packages/arch/univariate/base.py:766: ConvergenceWarning: The optimizer returned code 4. The message is:\n",
      "Inequality constraints incompatible\n",
      "See scipy.optimize.fmin_slsqp for code meaning.\n",
      "\n",
      "/Users/maximilian/miniconda3/envs/py310/lib/python3.10/site-packages/arch/univariate/base.py:766: ConvergenceWarning: The optimizer returned code 4. The message is:\n",
      "Inequality constraints incompatible\n",
      "See scipy.optimize.fmin_slsqp for code meaning.\n",
      "\n",
      "/Users/maximilian/miniconda3/envs/py310/lib/python3.10/site-packages/arch/univariate/base.py:766: ConvergenceWarning: The optimizer returned code 4. The message is:\n",
      "Inequality constraints incompatible\n",
      "See scipy.optimize.fmin_slsqp for code meaning.\n",
      "\n",
      "/Users/maximilian/miniconda3/envs/py310/lib/python3.10/site-packages/arch/univariate/base.py:766: ConvergenceWarning: The optimizer returned code 4. The message is:\n",
      "Inequality constraints incompatible\n",
      "See scipy.optimize.fmin_slsqp for code meaning.\n",
      "\n",
      "/Users/maximilian/miniconda3/envs/py310/lib/python3.10/site-packages/arch/univariate/base.py:766: ConvergenceWarning: The optimizer returned code 4. The message is:\n",
      "Inequality constraints incompatible\n",
      "See scipy.optimize.fmin_slsqp for code meaning.\n",
      "\n"
     ]
    },
    {
     "name": "stdout",
     "output_type": "stream",
     "text": [
      ".........................."
     ]
    },
    {
     "name": "stderr",
     "output_type": "stream",
     "text": [
      "/Users/maximilian/miniconda3/envs/py310/lib/python3.10/site-packages/arch/univariate/base.py:766: ConvergenceWarning: The optimizer returned code 4. The message is:\n",
      "Inequality constraints incompatible\n",
      "See scipy.optimize.fmin_slsqp for code meaning.\n",
      "\n",
      "/Users/maximilian/miniconda3/envs/py310/lib/python3.10/site-packages/arch/univariate/base.py:766: ConvergenceWarning: The optimizer returned code 4. The message is:\n",
      "Inequality constraints incompatible\n",
      "See scipy.optimize.fmin_slsqp for code meaning.\n",
      "\n",
      "/Users/maximilian/miniconda3/envs/py310/lib/python3.10/site-packages/arch/univariate/base.py:766: ConvergenceWarning: The optimizer returned code 4. The message is:\n",
      "Inequality constraints incompatible\n",
      "See scipy.optimize.fmin_slsqp for code meaning.\n",
      "\n",
      "/Users/maximilian/miniconda3/envs/py310/lib/python3.10/site-packages/arch/univariate/base.py:766: ConvergenceWarning: The optimizer returned code 4. The message is:\n",
      "Inequality constraints incompatible\n",
      "See scipy.optimize.fmin_slsqp for code meaning.\n",
      "\n",
      "/Users/maximilian/miniconda3/envs/py310/lib/python3.10/site-packages/arch/univariate/base.py:766: ConvergenceWarning: The optimizer returned code 4. The message is:\n",
      "Inequality constraints incompatible\n",
      "See scipy.optimize.fmin_slsqp for code meaning.\n",
      "\n"
     ]
    },
    {
     "name": "stdout",
     "output_type": "stream",
     "text": [
      "...."
     ]
    },
    {
     "name": "stderr",
     "output_type": "stream",
     "text": [
      "/Users/maximilian/miniconda3/envs/py310/lib/python3.10/site-packages/arch/univariate/base.py:766: ConvergenceWarning: The optimizer returned code 4. The message is:\n",
      "Inequality constraints incompatible\n",
      "See scipy.optimize.fmin_slsqp for code meaning.\n",
      "\n",
      "/Users/maximilian/miniconda3/envs/py310/lib/python3.10/site-packages/arch/univariate/base.py:766: ConvergenceWarning: The optimizer returned code 4. The message is:\n",
      "Inequality constraints incompatible\n",
      "See scipy.optimize.fmin_slsqp for code meaning.\n",
      "\n",
      "/Users/maximilian/miniconda3/envs/py310/lib/python3.10/site-packages/arch/univariate/base.py:766: ConvergenceWarning: The optimizer returned code 4. The message is:\n",
      "Inequality constraints incompatible\n",
      "See scipy.optimize.fmin_slsqp for code meaning.\n",
      "\n",
      "/Users/maximilian/miniconda3/envs/py310/lib/python3.10/site-packages/arch/univariate/base.py:766: ConvergenceWarning: The optimizer returned code 4. The message is:\n",
      "Inequality constraints incompatible\n",
      "See scipy.optimize.fmin_slsqp for code meaning.\n",
      "\n"
     ]
    },
    {
     "name": "stdout",
     "output_type": "stream",
     "text": [
      "....."
     ]
    },
    {
     "name": "stderr",
     "output_type": "stream",
     "text": [
      "/Users/maximilian/miniconda3/envs/py310/lib/python3.10/site-packages/arch/univariate/base.py:766: ConvergenceWarning: The optimizer returned code 4. The message is:\n",
      "Inequality constraints incompatible\n",
      "See scipy.optimize.fmin_slsqp for code meaning.\n",
      "\n",
      "/Users/maximilian/miniconda3/envs/py310/lib/python3.10/site-packages/arch/univariate/base.py:766: ConvergenceWarning: The optimizer returned code 4. The message is:\n",
      "Inequality constraints incompatible\n",
      "See scipy.optimize.fmin_slsqp for code meaning.\n",
      "\n",
      "/Users/maximilian/miniconda3/envs/py310/lib/python3.10/site-packages/arch/univariate/base.py:766: ConvergenceWarning: The optimizer returned code 4. The message is:\n",
      "Inequality constraints incompatible\n",
      "See scipy.optimize.fmin_slsqp for code meaning.\n",
      "\n",
      "/Users/maximilian/miniconda3/envs/py310/lib/python3.10/site-packages/arch/univariate/base.py:766: ConvergenceWarning: The optimizer returned code 4. The message is:\n",
      "Inequality constraints incompatible\n",
      "See scipy.optimize.fmin_slsqp for code meaning.\n",
      "\n"
     ]
    },
    {
     "name": "stdout",
     "output_type": "stream",
     "text": [
      "..."
     ]
    },
    {
     "name": "stderr",
     "output_type": "stream",
     "text": [
      "/Users/maximilian/miniconda3/envs/py310/lib/python3.10/site-packages/arch/univariate/base.py:766: ConvergenceWarning: The optimizer returned code 4. The message is:\n",
      "Inequality constraints incompatible\n",
      "See scipy.optimize.fmin_slsqp for code meaning.\n",
      "\n",
      "/Users/maximilian/miniconda3/envs/py310/lib/python3.10/site-packages/arch/univariate/base.py:766: ConvergenceWarning: The optimizer returned code 4. The message is:\n",
      "Inequality constraints incompatible\n",
      "See scipy.optimize.fmin_slsqp for code meaning.\n",
      "\n",
      "/Users/maximilian/miniconda3/envs/py310/lib/python3.10/site-packages/arch/univariate/base.py:766: ConvergenceWarning: The optimizer returned code 4. The message is:\n",
      "Inequality constraints incompatible\n",
      "See scipy.optimize.fmin_slsqp for code meaning.\n",
      "\n",
      "/Users/maximilian/miniconda3/envs/py310/lib/python3.10/site-packages/arch/univariate/base.py:766: ConvergenceWarning: The optimizer returned code 4. The message is:\n",
      "Inequality constraints incompatible\n",
      "See scipy.optimize.fmin_slsqp for code meaning.\n",
      "\n",
      "/Users/maximilian/miniconda3/envs/py310/lib/python3.10/site-packages/arch/univariate/base.py:766: ConvergenceWarning: The optimizer returned code 4. The message is:\n",
      "Inequality constraints incompatible\n",
      "See scipy.optimize.fmin_slsqp for code meaning.\n",
      "\n",
      "/Users/maximilian/miniconda3/envs/py310/lib/python3.10/site-packages/arch/univariate/base.py:766: ConvergenceWarning: The optimizer returned code 4. The message is:\n",
      "Inequality constraints incompatible\n",
      "See scipy.optimize.fmin_slsqp for code meaning.\n",
      "\n",
      "/Users/maximilian/miniconda3/envs/py310/lib/python3.10/site-packages/arch/univariate/base.py:766: ConvergenceWarning: The optimizer returned code 4. The message is:\n",
      "Inequality constraints incompatible\n",
      "See scipy.optimize.fmin_slsqp for code meaning.\n",
      "\n"
     ]
    },
    {
     "name": "stdout",
     "output_type": "stream",
     "text": [
      "...."
     ]
    },
    {
     "name": "stderr",
     "output_type": "stream",
     "text": [
      "/Users/maximilian/miniconda3/envs/py310/lib/python3.10/site-packages/arch/univariate/base.py:766: ConvergenceWarning: The optimizer returned code 4. The message is:\n",
      "Inequality constraints incompatible\n",
      "See scipy.optimize.fmin_slsqp for code meaning.\n",
      "\n",
      "/Users/maximilian/miniconda3/envs/py310/lib/python3.10/site-packages/arch/univariate/base.py:766: ConvergenceWarning: The optimizer returned code 4. The message is:\n",
      "Inequality constraints incompatible\n",
      "See scipy.optimize.fmin_slsqp for code meaning.\n",
      "\n",
      "/Users/maximilian/miniconda3/envs/py310/lib/python3.10/site-packages/arch/univariate/base.py:766: ConvergenceWarning: The optimizer returned code 4. The message is:\n",
      "Inequality constraints incompatible\n",
      "See scipy.optimize.fmin_slsqp for code meaning.\n",
      "\n",
      "/Users/maximilian/miniconda3/envs/py310/lib/python3.10/site-packages/arch/univariate/base.py:766: ConvergenceWarning: The optimizer returned code 4. The message is:\n",
      "Inequality constraints incompatible\n",
      "See scipy.optimize.fmin_slsqp for code meaning.\n",
      "\n"
     ]
    },
    {
     "name": "stdout",
     "output_type": "stream",
     "text": [
      "......"
     ]
    },
    {
     "name": "stderr",
     "output_type": "stream",
     "text": [
      "/Users/maximilian/miniconda3/envs/py310/lib/python3.10/site-packages/arch/univariate/base.py:766: ConvergenceWarning: The optimizer returned code 4. The message is:\n",
      "Inequality constraints incompatible\n",
      "See scipy.optimize.fmin_slsqp for code meaning.\n",
      "\n",
      "/Users/maximilian/miniconda3/envs/py310/lib/python3.10/site-packages/arch/univariate/base.py:766: ConvergenceWarning: The optimizer returned code 4. The message is:\n",
      "Inequality constraints incompatible\n",
      "See scipy.optimize.fmin_slsqp for code meaning.\n",
      "\n",
      "/Users/maximilian/miniconda3/envs/py310/lib/python3.10/site-packages/arch/univariate/base.py:766: ConvergenceWarning: The optimizer returned code 4. The message is:\n",
      "Inequality constraints incompatible\n",
      "See scipy.optimize.fmin_slsqp for code meaning.\n",
      "\n",
      "/Users/maximilian/miniconda3/envs/py310/lib/python3.10/site-packages/arch/univariate/base.py:766: ConvergenceWarning: The optimizer returned code 4. The message is:\n",
      "Inequality constraints incompatible\n",
      "See scipy.optimize.fmin_slsqp for code meaning.\n",
      "\n",
      "/Users/maximilian/miniconda3/envs/py310/lib/python3.10/site-packages/arch/univariate/base.py:766: ConvergenceWarning: The optimizer returned code 4. The message is:\n",
      "Inequality constraints incompatible\n",
      "See scipy.optimize.fmin_slsqp for code meaning.\n",
      "\n",
      "/Users/maximilian/miniconda3/envs/py310/lib/python3.10/site-packages/arch/univariate/base.py:766: ConvergenceWarning: The optimizer returned code 4. The message is:\n",
      "Inequality constraints incompatible\n",
      "See scipy.optimize.fmin_slsqp for code meaning.\n",
      "\n",
      "/Users/maximilian/miniconda3/envs/py310/lib/python3.10/site-packages/arch/univariate/base.py:766: ConvergenceWarning: The optimizer returned code 4. The message is:\n",
      "Inequality constraints incompatible\n",
      "See scipy.optimize.fmin_slsqp for code meaning.\n",
      "\n"
     ]
    },
    {
     "name": "stdout",
     "output_type": "stream",
     "text": [
      "..."
     ]
    },
    {
     "name": "stderr",
     "output_type": "stream",
     "text": [
      "/Users/maximilian/miniconda3/envs/py310/lib/python3.10/site-packages/arch/univariate/base.py:766: ConvergenceWarning: The optimizer returned code 4. The message is:\n",
      "Inequality constraints incompatible\n",
      "See scipy.optimize.fmin_slsqp for code meaning.\n",
      "\n",
      "/Users/maximilian/miniconda3/envs/py310/lib/python3.10/site-packages/arch/univariate/base.py:766: ConvergenceWarning: The optimizer returned code 4. The message is:\n",
      "Inequality constraints incompatible\n",
      "See scipy.optimize.fmin_slsqp for code meaning.\n",
      "\n",
      "/Users/maximilian/miniconda3/envs/py310/lib/python3.10/site-packages/arch/univariate/base.py:766: ConvergenceWarning: The optimizer returned code 4. The message is:\n",
      "Inequality constraints incompatible\n",
      "See scipy.optimize.fmin_slsqp for code meaning.\n",
      "\n",
      "/Users/maximilian/miniconda3/envs/py310/lib/python3.10/site-packages/arch/univariate/base.py:766: ConvergenceWarning: The optimizer returned code 4. The message is:\n",
      "Inequality constraints incompatible\n",
      "See scipy.optimize.fmin_slsqp for code meaning.\n",
      "\n",
      "/Users/maximilian/miniconda3/envs/py310/lib/python3.10/site-packages/arch/univariate/base.py:766: ConvergenceWarning: The optimizer returned code 4. The message is:\n",
      "Inequality constraints incompatible\n",
      "See scipy.optimize.fmin_slsqp for code meaning.\n",
      "\n"
     ]
    },
    {
     "name": "stdout",
     "output_type": "stream",
     "text": [
      ".........."
     ]
    },
    {
     "name": "stderr",
     "output_type": "stream",
     "text": [
      "/Users/maximilian/miniconda3/envs/py310/lib/python3.10/site-packages/arch/univariate/base.py:766: ConvergenceWarning: The optimizer returned code 4. The message is:\n",
      "Inequality constraints incompatible\n",
      "See scipy.optimize.fmin_slsqp for code meaning.\n",
      "\n",
      "/Users/maximilian/miniconda3/envs/py310/lib/python3.10/site-packages/arch/univariate/base.py:766: ConvergenceWarning: The optimizer returned code 4. The message is:\n",
      "Inequality constraints incompatible\n",
      "See scipy.optimize.fmin_slsqp for code meaning.\n",
      "\n",
      "/Users/maximilian/miniconda3/envs/py310/lib/python3.10/site-packages/arch/univariate/base.py:766: ConvergenceWarning: The optimizer returned code 4. The message is:\n",
      "Inequality constraints incompatible\n",
      "See scipy.optimize.fmin_slsqp for code meaning.\n",
      "\n",
      "/Users/maximilian/miniconda3/envs/py310/lib/python3.10/site-packages/arch/univariate/base.py:766: ConvergenceWarning: The optimizer returned code 4. The message is:\n",
      "Inequality constraints incompatible\n",
      "See scipy.optimize.fmin_slsqp for code meaning.\n",
      "\n",
      "/Users/maximilian/miniconda3/envs/py310/lib/python3.10/site-packages/arch/univariate/base.py:766: ConvergenceWarning: The optimizer returned code 4. The message is:\n",
      "Inequality constraints incompatible\n",
      "See scipy.optimize.fmin_slsqp for code meaning.\n",
      "\n",
      "/Users/maximilian/miniconda3/envs/py310/lib/python3.10/site-packages/arch/univariate/base.py:766: ConvergenceWarning: The optimizer returned code 4. The message is:\n",
      "Inequality constraints incompatible\n",
      "See scipy.optimize.fmin_slsqp for code meaning.\n",
      "\n"
     ]
    },
    {
     "name": "stdout",
     "output_type": "stream",
     "text": [
      "......."
     ]
    },
    {
     "name": "stderr",
     "output_type": "stream",
     "text": [
      "/Users/maximilian/miniconda3/envs/py310/lib/python3.10/site-packages/arch/univariate/base.py:766: ConvergenceWarning: The optimizer returned code 4. The message is:\n",
      "Inequality constraints incompatible\n",
      "See scipy.optimize.fmin_slsqp for code meaning.\n",
      "\n",
      "/Users/maximilian/miniconda3/envs/py310/lib/python3.10/site-packages/arch/univariate/base.py:766: ConvergenceWarning: The optimizer returned code 4. The message is:\n",
      "Inequality constraints incompatible\n",
      "See scipy.optimize.fmin_slsqp for code meaning.\n",
      "\n",
      "/Users/maximilian/miniconda3/envs/py310/lib/python3.10/site-packages/arch/univariate/base.py:766: ConvergenceWarning: The optimizer returned code 4. The message is:\n",
      "Inequality constraints incompatible\n",
      "See scipy.optimize.fmin_slsqp for code meaning.\n",
      "\n"
     ]
    },
    {
     "name": "stdout",
     "output_type": "stream",
     "text": [
      "........."
     ]
    },
    {
     "name": "stderr",
     "output_type": "stream",
     "text": [
      "/Users/maximilian/miniconda3/envs/py310/lib/python3.10/site-packages/arch/univariate/base.py:766: ConvergenceWarning: The optimizer returned code 4. The message is:\n",
      "Inequality constraints incompatible\n",
      "See scipy.optimize.fmin_slsqp for code meaning.\n",
      "\n",
      "/Users/maximilian/miniconda3/envs/py310/lib/python3.10/site-packages/arch/univariate/base.py:766: ConvergenceWarning: The optimizer returned code 4. The message is:\n",
      "Inequality constraints incompatible\n",
      "See scipy.optimize.fmin_slsqp for code meaning.\n",
      "\n",
      "/Users/maximilian/miniconda3/envs/py310/lib/python3.10/site-packages/arch/univariate/base.py:766: ConvergenceWarning: The optimizer returned code 4. The message is:\n",
      "Inequality constraints incompatible\n",
      "See scipy.optimize.fmin_slsqp for code meaning.\n",
      "\n",
      "/Users/maximilian/miniconda3/envs/py310/lib/python3.10/site-packages/arch/univariate/base.py:766: ConvergenceWarning: The optimizer returned code 4. The message is:\n",
      "Inequality constraints incompatible\n",
      "See scipy.optimize.fmin_slsqp for code meaning.\n",
      "\n",
      "/Users/maximilian/miniconda3/envs/py310/lib/python3.10/site-packages/arch/univariate/base.py:766: ConvergenceWarning: The optimizer returned code 4. The message is:\n",
      "Inequality constraints incompatible\n",
      "See scipy.optimize.fmin_slsqp for code meaning.\n",
      "\n",
      "/Users/maximilian/miniconda3/envs/py310/lib/python3.10/site-packages/arch/univariate/base.py:766: ConvergenceWarning: The optimizer returned code 4. The message is:\n",
      "Inequality constraints incompatible\n",
      "See scipy.optimize.fmin_slsqp for code meaning.\n",
      "\n",
      "/Users/maximilian/miniconda3/envs/py310/lib/python3.10/site-packages/arch/univariate/base.py:766: ConvergenceWarning: The optimizer returned code 4. The message is:\n",
      "Inequality constraints incompatible\n",
      "See scipy.optimize.fmin_slsqp for code meaning.\n",
      "\n",
      "/Users/maximilian/miniconda3/envs/py310/lib/python3.10/site-packages/arch/univariate/base.py:766: ConvergenceWarning: The optimizer returned code 4. The message is:\n",
      "Inequality constraints incompatible\n",
      "See scipy.optimize.fmin_slsqp for code meaning.\n",
      "\n",
      "/Users/maximilian/miniconda3/envs/py310/lib/python3.10/site-packages/arch/univariate/base.py:766: ConvergenceWarning: The optimizer returned code 4. The message is:\n",
      "Inequality constraints incompatible\n",
      "See scipy.optimize.fmin_slsqp for code meaning.\n",
      "\n",
      "/Users/maximilian/miniconda3/envs/py310/lib/python3.10/site-packages/arch/univariate/base.py:766: ConvergenceWarning: The optimizer returned code 4. The message is:\n",
      "Inequality constraints incompatible\n",
      "See scipy.optimize.fmin_slsqp for code meaning.\n",
      "\n"
     ]
    },
    {
     "name": "stdout",
     "output_type": "stream",
     "text": [
      "..."
     ]
    },
    {
     "name": "stderr",
     "output_type": "stream",
     "text": [
      "/Users/maximilian/miniconda3/envs/py310/lib/python3.10/site-packages/arch/univariate/base.py:766: ConvergenceWarning: The optimizer returned code 4. The message is:\n",
      "Inequality constraints incompatible\n",
      "See scipy.optimize.fmin_slsqp for code meaning.\n",
      "\n",
      "/Users/maximilian/miniconda3/envs/py310/lib/python3.10/site-packages/arch/univariate/base.py:766: ConvergenceWarning: The optimizer returned code 4. The message is:\n",
      "Inequality constraints incompatible\n",
      "See scipy.optimize.fmin_slsqp for code meaning.\n",
      "\n",
      "/Users/maximilian/miniconda3/envs/py310/lib/python3.10/site-packages/arch/univariate/base.py:766: ConvergenceWarning: The optimizer returned code 4. The message is:\n",
      "Inequality constraints incompatible\n",
      "See scipy.optimize.fmin_slsqp for code meaning.\n",
      "\n",
      "/Users/maximilian/miniconda3/envs/py310/lib/python3.10/site-packages/arch/univariate/base.py:766: ConvergenceWarning: The optimizer returned code 4. The message is:\n",
      "Inequality constraints incompatible\n",
      "See scipy.optimize.fmin_slsqp for code meaning.\n",
      "\n",
      "/Users/maximilian/miniconda3/envs/py310/lib/python3.10/site-packages/arch/univariate/base.py:766: ConvergenceWarning: The optimizer returned code 4. The message is:\n",
      "Inequality constraints incompatible\n",
      "See scipy.optimize.fmin_slsqp for code meaning.\n",
      "\n",
      "/Users/maximilian/miniconda3/envs/py310/lib/python3.10/site-packages/arch/univariate/base.py:766: ConvergenceWarning: The optimizer returned code 4. The message is:\n",
      "Inequality constraints incompatible\n",
      "See scipy.optimize.fmin_slsqp for code meaning.\n",
      "\n",
      "/Users/maximilian/miniconda3/envs/py310/lib/python3.10/site-packages/arch/univariate/base.py:766: ConvergenceWarning: The optimizer returned code 4. The message is:\n",
      "Inequality constraints incompatible\n",
      "See scipy.optimize.fmin_slsqp for code meaning.\n",
      "\n",
      "/Users/maximilian/miniconda3/envs/py310/lib/python3.10/site-packages/arch/univariate/base.py:766: ConvergenceWarning: The optimizer returned code 4. The message is:\n",
      "Inequality constraints incompatible\n",
      "See scipy.optimize.fmin_slsqp for code meaning.\n",
      "\n",
      "/Users/maximilian/miniconda3/envs/py310/lib/python3.10/site-packages/arch/univariate/base.py:766: ConvergenceWarning: The optimizer returned code 4. The message is:\n",
      "Inequality constraints incompatible\n",
      "See scipy.optimize.fmin_slsqp for code meaning.\n",
      "\n",
      "/Users/maximilian/miniconda3/envs/py310/lib/python3.10/site-packages/arch/univariate/base.py:766: ConvergenceWarning: The optimizer returned code 4. The message is:\n",
      "Inequality constraints incompatible\n",
      "See scipy.optimize.fmin_slsqp for code meaning.\n",
      "\n"
     ]
    },
    {
     "name": "stdout",
     "output_type": "stream",
     "text": [
      "...."
     ]
    },
    {
     "name": "stderr",
     "output_type": "stream",
     "text": [
      "/Users/maximilian/miniconda3/envs/py310/lib/python3.10/site-packages/arch/univariate/base.py:766: ConvergenceWarning: The optimizer returned code 4. The message is:\n",
      "Inequality constraints incompatible\n",
      "See scipy.optimize.fmin_slsqp for code meaning.\n",
      "\n"
     ]
    },
    {
     "name": "stdout",
     "output_type": "stream",
     "text": [
      "..............."
     ]
    },
    {
     "name": "stderr",
     "output_type": "stream",
     "text": [
      "/Users/maximilian/miniconda3/envs/py310/lib/python3.10/site-packages/arch/univariate/base.py:766: ConvergenceWarning: The optimizer returned code 4. The message is:\n",
      "Inequality constraints incompatible\n",
      "See scipy.optimize.fmin_slsqp for code meaning.\n",
      "\n",
      "/Users/maximilian/miniconda3/envs/py310/lib/python3.10/site-packages/arch/univariate/base.py:766: ConvergenceWarning: The optimizer returned code 4. The message is:\n",
      "Inequality constraints incompatible\n",
      "See scipy.optimize.fmin_slsqp for code meaning.\n",
      "\n",
      "/Users/maximilian/miniconda3/envs/py310/lib/python3.10/site-packages/arch/univariate/base.py:766: ConvergenceWarning: The optimizer returned code 4. The message is:\n",
      "Inequality constraints incompatible\n",
      "See scipy.optimize.fmin_slsqp for code meaning.\n",
      "\n"
     ]
    },
    {
     "name": "stdout",
     "output_type": "stream",
     "text": [
      "...."
     ]
    },
    {
     "name": "stderr",
     "output_type": "stream",
     "text": [
      "/Users/maximilian/miniconda3/envs/py310/lib/python3.10/site-packages/arch/univariate/base.py:766: ConvergenceWarning: The optimizer returned code 4. The message is:\n",
      "Inequality constraints incompatible\n",
      "See scipy.optimize.fmin_slsqp for code meaning.\n",
      "\n",
      "/Users/maximilian/miniconda3/envs/py310/lib/python3.10/site-packages/arch/univariate/base.py:766: ConvergenceWarning: The optimizer returned code 4. The message is:\n",
      "Inequality constraints incompatible\n",
      "See scipy.optimize.fmin_slsqp for code meaning.\n",
      "\n",
      "/Users/maximilian/miniconda3/envs/py310/lib/python3.10/site-packages/arch/univariate/base.py:766: ConvergenceWarning: The optimizer returned code 4. The message is:\n",
      "Inequality constraints incompatible\n",
      "See scipy.optimize.fmin_slsqp for code meaning.\n",
      "\n",
      "/Users/maximilian/miniconda3/envs/py310/lib/python3.10/site-packages/arch/univariate/base.py:766: ConvergenceWarning: The optimizer returned code 4. The message is:\n",
      "Inequality constraints incompatible\n",
      "See scipy.optimize.fmin_slsqp for code meaning.\n",
      "\n",
      "/Users/maximilian/miniconda3/envs/py310/lib/python3.10/site-packages/arch/univariate/base.py:766: ConvergenceWarning: The optimizer returned code 4. The message is:\n",
      "Inequality constraints incompatible\n",
      "See scipy.optimize.fmin_slsqp for code meaning.\n",
      "\n",
      "/Users/maximilian/miniconda3/envs/py310/lib/python3.10/site-packages/arch/univariate/base.py:766: ConvergenceWarning: The optimizer returned code 4. The message is:\n",
      "Inequality constraints incompatible\n",
      "See scipy.optimize.fmin_slsqp for code meaning.\n",
      "\n"
     ]
    },
    {
     "name": "stdout",
     "output_type": "stream",
     "text": [
      "...."
     ]
    },
    {
     "name": "stderr",
     "output_type": "stream",
     "text": [
      "/Users/maximilian/miniconda3/envs/py310/lib/python3.10/site-packages/arch/univariate/base.py:766: ConvergenceWarning: The optimizer returned code 4. The message is:\n",
      "Inequality constraints incompatible\n",
      "See scipy.optimize.fmin_slsqp for code meaning.\n",
      "\n",
      "/Users/maximilian/miniconda3/envs/py310/lib/python3.10/site-packages/arch/univariate/base.py:766: ConvergenceWarning: The optimizer returned code 4. The message is:\n",
      "Inequality constraints incompatible\n",
      "See scipy.optimize.fmin_slsqp for code meaning.\n",
      "\n",
      "/Users/maximilian/miniconda3/envs/py310/lib/python3.10/site-packages/arch/univariate/base.py:766: ConvergenceWarning: The optimizer returned code 4. The message is:\n",
      "Inequality constraints incompatible\n",
      "See scipy.optimize.fmin_slsqp for code meaning.\n",
      "\n"
     ]
    },
    {
     "name": "stdout",
     "output_type": "stream",
     "text": [
      "....."
     ]
    },
    {
     "name": "stderr",
     "output_type": "stream",
     "text": [
      "/Users/maximilian/miniconda3/envs/py310/lib/python3.10/site-packages/arch/univariate/base.py:766: ConvergenceWarning: The optimizer returned code 4. The message is:\n",
      "Inequality constraints incompatible\n",
      "See scipy.optimize.fmin_slsqp for code meaning.\n",
      "\n",
      "/Users/maximilian/miniconda3/envs/py310/lib/python3.10/site-packages/arch/univariate/base.py:766: ConvergenceWarning: The optimizer returned code 4. The message is:\n",
      "Inequality constraints incompatible\n",
      "See scipy.optimize.fmin_slsqp for code meaning.\n",
      "\n",
      "/Users/maximilian/miniconda3/envs/py310/lib/python3.10/site-packages/arch/univariate/base.py:766: ConvergenceWarning: The optimizer returned code 4. The message is:\n",
      "Inequality constraints incompatible\n",
      "See scipy.optimize.fmin_slsqp for code meaning.\n",
      "\n",
      "/Users/maximilian/miniconda3/envs/py310/lib/python3.10/site-packages/arch/univariate/base.py:766: ConvergenceWarning: The optimizer returned code 4. The message is:\n",
      "Inequality constraints incompatible\n",
      "See scipy.optimize.fmin_slsqp for code meaning.\n",
      "\n",
      "/Users/maximilian/miniconda3/envs/py310/lib/python3.10/site-packages/arch/univariate/base.py:766: ConvergenceWarning: The optimizer returned code 4. The message is:\n",
      "Inequality constraints incompatible\n",
      "See scipy.optimize.fmin_slsqp for code meaning.\n",
      "\n",
      "/Users/maximilian/miniconda3/envs/py310/lib/python3.10/site-packages/arch/univariate/base.py:766: ConvergenceWarning: The optimizer returned code 4. The message is:\n",
      "Inequality constraints incompatible\n",
      "See scipy.optimize.fmin_slsqp for code meaning.\n",
      "\n",
      "/Users/maximilian/miniconda3/envs/py310/lib/python3.10/site-packages/arch/univariate/base.py:766: ConvergenceWarning: The optimizer returned code 4. The message is:\n",
      "Inequality constraints incompatible\n",
      "See scipy.optimize.fmin_slsqp for code meaning.\n",
      "\n"
     ]
    },
    {
     "name": "stdout",
     "output_type": "stream",
     "text": [
      "..."
     ]
    },
    {
     "name": "stderr",
     "output_type": "stream",
     "text": [
      "/Users/maximilian/miniconda3/envs/py310/lib/python3.10/site-packages/arch/univariate/base.py:766: ConvergenceWarning: The optimizer returned code 4. The message is:\n",
      "Inequality constraints incompatible\n",
      "See scipy.optimize.fmin_slsqp for code meaning.\n",
      "\n",
      "/Users/maximilian/miniconda3/envs/py310/lib/python3.10/site-packages/arch/univariate/base.py:766: ConvergenceWarning: The optimizer returned code 4. The message is:\n",
      "Inequality constraints incompatible\n",
      "See scipy.optimize.fmin_slsqp for code meaning.\n",
      "\n"
     ]
    },
    {
     "name": "stdout",
     "output_type": "stream",
     "text": [
      "....."
     ]
    },
    {
     "name": "stderr",
     "output_type": "stream",
     "text": [
      "/Users/maximilian/miniconda3/envs/py310/lib/python3.10/site-packages/arch/univariate/base.py:766: ConvergenceWarning: The optimizer returned code 4. The message is:\n",
      "Inequality constraints incompatible\n",
      "See scipy.optimize.fmin_slsqp for code meaning.\n",
      "\n",
      "/Users/maximilian/miniconda3/envs/py310/lib/python3.10/site-packages/arch/univariate/base.py:766: ConvergenceWarning: The optimizer returned code 4. The message is:\n",
      "Inequality constraints incompatible\n",
      "See scipy.optimize.fmin_slsqp for code meaning.\n",
      "\n",
      "/Users/maximilian/miniconda3/envs/py310/lib/python3.10/site-packages/arch/univariate/base.py:766: ConvergenceWarning: The optimizer returned code 4. The message is:\n",
      "Inequality constraints incompatible\n",
      "See scipy.optimize.fmin_slsqp for code meaning.\n",
      "\n"
     ]
    },
    {
     "name": "stdout",
     "output_type": "stream",
     "text": [
      "..........."
     ]
    },
    {
     "name": "stderr",
     "output_type": "stream",
     "text": [
      "/Users/maximilian/miniconda3/envs/py310/lib/python3.10/site-packages/arch/univariate/base.py:766: ConvergenceWarning: The optimizer returned code 4. The message is:\n",
      "Inequality constraints incompatible\n",
      "See scipy.optimize.fmin_slsqp for code meaning.\n",
      "\n",
      "/Users/maximilian/miniconda3/envs/py310/lib/python3.10/site-packages/arch/univariate/base.py:766: ConvergenceWarning: The optimizer returned code 4. The message is:\n",
      "Inequality constraints incompatible\n",
      "See scipy.optimize.fmin_slsqp for code meaning.\n",
      "\n",
      "/Users/maximilian/miniconda3/envs/py310/lib/python3.10/site-packages/arch/univariate/base.py:766: ConvergenceWarning: The optimizer returned code 4. The message is:\n",
      "Inequality constraints incompatible\n",
      "See scipy.optimize.fmin_slsqp for code meaning.\n",
      "\n"
     ]
    },
    {
     "name": "stdout",
     "output_type": "stream",
     "text": [
      "........."
     ]
    },
    {
     "name": "stderr",
     "output_type": "stream",
     "text": [
      "/Users/maximilian/miniconda3/envs/py310/lib/python3.10/site-packages/arch/univariate/base.py:766: ConvergenceWarning: The optimizer returned code 4. The message is:\n",
      "Inequality constraints incompatible\n",
      "See scipy.optimize.fmin_slsqp for code meaning.\n",
      "\n",
      "/Users/maximilian/miniconda3/envs/py310/lib/python3.10/site-packages/arch/univariate/base.py:766: ConvergenceWarning: The optimizer returned code 4. The message is:\n",
      "Inequality constraints incompatible\n",
      "See scipy.optimize.fmin_slsqp for code meaning.\n",
      "\n",
      "/Users/maximilian/miniconda3/envs/py310/lib/python3.10/site-packages/arch/univariate/base.py:766: ConvergenceWarning: The optimizer returned code 4. The message is:\n",
      "Inequality constraints incompatible\n",
      "See scipy.optimize.fmin_slsqp for code meaning.\n",
      "\n",
      "/Users/maximilian/miniconda3/envs/py310/lib/python3.10/site-packages/arch/univariate/base.py:766: ConvergenceWarning: The optimizer returned code 4. The message is:\n",
      "Inequality constraints incompatible\n",
      "See scipy.optimize.fmin_slsqp for code meaning.\n",
      "\n",
      "/Users/maximilian/miniconda3/envs/py310/lib/python3.10/site-packages/arch/univariate/base.py:766: ConvergenceWarning: The optimizer returned code 4. The message is:\n",
      "Inequality constraints incompatible\n",
      "See scipy.optimize.fmin_slsqp for code meaning.\n",
      "\n",
      "/Users/maximilian/miniconda3/envs/py310/lib/python3.10/site-packages/arch/univariate/base.py:766: ConvergenceWarning: The optimizer returned code 4. The message is:\n",
      "Inequality constraints incompatible\n",
      "See scipy.optimize.fmin_slsqp for code meaning.\n",
      "\n"
     ]
    },
    {
     "name": "stdout",
     "output_type": "stream",
     "text": [
      ".....index 187 is out of bounds for axis 0 with size 187\n",
      "............................................................................................................................................................................................index 187 is out of bounds for axis 0 with size 187\n",
      "................"
     ]
    },
    {
     "name": "stderr",
     "output_type": "stream",
     "text": [
      "/Users/maximilian/miniconda3/envs/py310/lib/python3.10/site-packages/arch/univariate/base.py:766: ConvergenceWarning: The optimizer returned code 4. The message is:\n",
      "Inequality constraints incompatible\n",
      "See scipy.optimize.fmin_slsqp for code meaning.\n",
      "\n",
      "/Users/maximilian/miniconda3/envs/py310/lib/python3.10/site-packages/arch/univariate/base.py:766: ConvergenceWarning: The optimizer returned code 4. The message is:\n",
      "Inequality constraints incompatible\n",
      "See scipy.optimize.fmin_slsqp for code meaning.\n",
      "\n",
      "/Users/maximilian/miniconda3/envs/py310/lib/python3.10/site-packages/arch/univariate/base.py:766: ConvergenceWarning: The optimizer returned code 4. The message is:\n",
      "Inequality constraints incompatible\n",
      "See scipy.optimize.fmin_slsqp for code meaning.\n",
      "\n"
     ]
    },
    {
     "name": "stdout",
     "output_type": "stream",
     "text": [
      "........."
     ]
    },
    {
     "name": "stderr",
     "output_type": "stream",
     "text": [
      "/Users/maximilian/miniconda3/envs/py310/lib/python3.10/site-packages/arch/univariate/base.py:766: ConvergenceWarning: The optimizer returned code 4. The message is:\n",
      "Inequality constraints incompatible\n",
      "See scipy.optimize.fmin_slsqp for code meaning.\n",
      "\n",
      "/Users/maximilian/miniconda3/envs/py310/lib/python3.10/site-packages/arch/univariate/base.py:766: ConvergenceWarning: The optimizer returned code 4. The message is:\n",
      "Inequality constraints incompatible\n",
      "See scipy.optimize.fmin_slsqp for code meaning.\n",
      "\n",
      "/Users/maximilian/miniconda3/envs/py310/lib/python3.10/site-packages/arch/univariate/base.py:766: ConvergenceWarning: The optimizer returned code 4. The message is:\n",
      "Inequality constraints incompatible\n",
      "See scipy.optimize.fmin_slsqp for code meaning.\n",
      "\n"
     ]
    },
    {
     "name": "stdout",
     "output_type": "stream",
     "text": [
      "..."
     ]
    },
    {
     "name": "stderr",
     "output_type": "stream",
     "text": [
      "/Users/maximilian/miniconda3/envs/py310/lib/python3.10/site-packages/arch/univariate/base.py:766: ConvergenceWarning: The optimizer returned code 4. The message is:\n",
      "Inequality constraints incompatible\n",
      "See scipy.optimize.fmin_slsqp for code meaning.\n",
      "\n",
      "/Users/maximilian/miniconda3/envs/py310/lib/python3.10/site-packages/arch/univariate/base.py:766: ConvergenceWarning: The optimizer returned code 4. The message is:\n",
      "Inequality constraints incompatible\n",
      "See scipy.optimize.fmin_slsqp for code meaning.\n",
      "\n",
      "/Users/maximilian/miniconda3/envs/py310/lib/python3.10/site-packages/arch/univariate/base.py:766: ConvergenceWarning: The optimizer returned code 4. The message is:\n",
      "Inequality constraints incompatible\n",
      "See scipy.optimize.fmin_slsqp for code meaning.\n",
      "\n"
     ]
    },
    {
     "name": "stdout",
     "output_type": "stream",
     "text": [
      "........."
     ]
    },
    {
     "name": "stderr",
     "output_type": "stream",
     "text": [
      "/Users/maximilian/miniconda3/envs/py310/lib/python3.10/site-packages/arch/univariate/base.py:766: ConvergenceWarning: The optimizer returned code 4. The message is:\n",
      "Inequality constraints incompatible\n",
      "See scipy.optimize.fmin_slsqp for code meaning.\n",
      "\n",
      "/Users/maximilian/miniconda3/envs/py310/lib/python3.10/site-packages/arch/univariate/base.py:766: ConvergenceWarning: The optimizer returned code 4. The message is:\n",
      "Inequality constraints incompatible\n",
      "See scipy.optimize.fmin_slsqp for code meaning.\n",
      "\n",
      "/Users/maximilian/miniconda3/envs/py310/lib/python3.10/site-packages/arch/univariate/base.py:766: ConvergenceWarning: The optimizer returned code 4. The message is:\n",
      "Inequality constraints incompatible\n",
      "See scipy.optimize.fmin_slsqp for code meaning.\n",
      "\n",
      "/Users/maximilian/miniconda3/envs/py310/lib/python3.10/site-packages/arch/univariate/base.py:766: ConvergenceWarning: The optimizer returned code 4. The message is:\n",
      "Inequality constraints incompatible\n",
      "See scipy.optimize.fmin_slsqp for code meaning.\n",
      "\n"
     ]
    },
    {
     "name": "stdout",
     "output_type": "stream",
     "text": [
      "..."
     ]
    },
    {
     "name": "stderr",
     "output_type": "stream",
     "text": [
      "/Users/maximilian/miniconda3/envs/py310/lib/python3.10/site-packages/arch/univariate/base.py:766: ConvergenceWarning: The optimizer returned code 4. The message is:\n",
      "Inequality constraints incompatible\n",
      "See scipy.optimize.fmin_slsqp for code meaning.\n",
      "\n",
      "/Users/maximilian/miniconda3/envs/py310/lib/python3.10/site-packages/arch/univariate/base.py:766: ConvergenceWarning: The optimizer returned code 4. The message is:\n",
      "Inequality constraints incompatible\n",
      "See scipy.optimize.fmin_slsqp for code meaning.\n",
      "\n"
     ]
    },
    {
     "name": "stdout",
     "output_type": "stream",
     "text": [
      "........"
     ]
    },
    {
     "name": "stderr",
     "output_type": "stream",
     "text": [
      "/Users/maximilian/miniconda3/envs/py310/lib/python3.10/site-packages/arch/univariate/base.py:766: ConvergenceWarning: The optimizer returned code 4. The message is:\n",
      "Inequality constraints incompatible\n",
      "See scipy.optimize.fmin_slsqp for code meaning.\n",
      "\n",
      "/Users/maximilian/miniconda3/envs/py310/lib/python3.10/site-packages/arch/univariate/base.py:766: ConvergenceWarning: The optimizer returned code 4. The message is:\n",
      "Inequality constraints incompatible\n",
      "See scipy.optimize.fmin_slsqp for code meaning.\n",
      "\n",
      "/Users/maximilian/miniconda3/envs/py310/lib/python3.10/site-packages/arch/univariate/base.py:766: ConvergenceWarning: The optimizer returned code 4. The message is:\n",
      "Inequality constraints incompatible\n",
      "See scipy.optimize.fmin_slsqp for code meaning.\n",
      "\n"
     ]
    },
    {
     "name": "stdout",
     "output_type": "stream",
     "text": [
      ".The data appears to lie in a lower-dimensional subspace of the space in which it is expressed. This has resulted in a singular data covariance matrix, which cannot be treated using the algorithms implemented in `gaussian_kde`. Consider performing principle component analysis / dimensionality reduction and using `gaussian_kde` with the transformed data.\n",
      "..."
     ]
    },
    {
     "name": "stderr",
     "output_type": "stream",
     "text": [
      "/Users/maximilian/miniconda3/envs/py310/lib/python3.10/site-packages/arch/univariate/base.py:766: ConvergenceWarning: The optimizer returned code 4. The message is:\n",
      "Inequality constraints incompatible\n",
      "See scipy.optimize.fmin_slsqp for code meaning.\n",
      "\n",
      "/Users/maximilian/miniconda3/envs/py310/lib/python3.10/site-packages/arch/univariate/base.py:766: ConvergenceWarning: The optimizer returned code 4. The message is:\n",
      "Inequality constraints incompatible\n",
      "See scipy.optimize.fmin_slsqp for code meaning.\n",
      "\n",
      "/Users/maximilian/miniconda3/envs/py310/lib/python3.10/site-packages/arch/univariate/base.py:766: ConvergenceWarning: The optimizer returned code 4. The message is:\n",
      "Inequality constraints incompatible\n",
      "See scipy.optimize.fmin_slsqp for code meaning.\n",
      "\n"
     ]
    },
    {
     "name": "stdout",
     "output_type": "stream",
     "text": [
      "........................"
     ]
    },
    {
     "name": "stderr",
     "output_type": "stream",
     "text": [
      "/Users/maximilian/miniconda3/envs/py310/lib/python3.10/site-packages/arch/univariate/base.py:766: ConvergenceWarning: The optimizer returned code 4. The message is:\n",
      "Inequality constraints incompatible\n",
      "See scipy.optimize.fmin_slsqp for code meaning.\n",
      "\n",
      "/Users/maximilian/miniconda3/envs/py310/lib/python3.10/site-packages/arch/univariate/base.py:766: ConvergenceWarning: The optimizer returned code 4. The message is:\n",
      "Inequality constraints incompatible\n",
      "See scipy.optimize.fmin_slsqp for code meaning.\n",
      "\n",
      "/Users/maximilian/miniconda3/envs/py310/lib/python3.10/site-packages/arch/univariate/base.py:766: ConvergenceWarning: The optimizer returned code 4. The message is:\n",
      "Inequality constraints incompatible\n",
      "See scipy.optimize.fmin_slsqp for code meaning.\n",
      "\n"
     ]
    },
    {
     "name": "stdout",
     "output_type": "stream",
     "text": [
      "......."
     ]
    },
    {
     "name": "stderr",
     "output_type": "stream",
     "text": [
      "/Users/maximilian/miniconda3/envs/py310/lib/python3.10/site-packages/arch/univariate/base.py:766: ConvergenceWarning: The optimizer returned code 4. The message is:\n",
      "Inequality constraints incompatible\n",
      "See scipy.optimize.fmin_slsqp for code meaning.\n",
      "\n",
      "/Users/maximilian/miniconda3/envs/py310/lib/python3.10/site-packages/arch/univariate/base.py:766: ConvergenceWarning: The optimizer returned code 4. The message is:\n",
      "Inequality constraints incompatible\n",
      "See scipy.optimize.fmin_slsqp for code meaning.\n",
      "\n",
      "/Users/maximilian/miniconda3/envs/py310/lib/python3.10/site-packages/arch/univariate/base.py:766: ConvergenceWarning: The optimizer returned code 4. The message is:\n",
      "Inequality constraints incompatible\n",
      "See scipy.optimize.fmin_slsqp for code meaning.\n",
      "\n",
      "/Users/maximilian/miniconda3/envs/py310/lib/python3.10/site-packages/arch/univariate/base.py:766: ConvergenceWarning: The optimizer returned code 4. The message is:\n",
      "Inequality constraints incompatible\n",
      "See scipy.optimize.fmin_slsqp for code meaning.\n",
      "\n",
      "/Users/maximilian/miniconda3/envs/py310/lib/python3.10/site-packages/arch/univariate/base.py:766: ConvergenceWarning: The optimizer returned code 4. The message is:\n",
      "Inequality constraints incompatible\n",
      "See scipy.optimize.fmin_slsqp for code meaning.\n",
      "\n"
     ]
    },
    {
     "name": "stdout",
     "output_type": "stream",
     "text": [
      "..."
     ]
    },
    {
     "name": "stderr",
     "output_type": "stream",
     "text": [
      "/Users/maximilian/miniconda3/envs/py310/lib/python3.10/site-packages/arch/univariate/base.py:766: ConvergenceWarning: The optimizer returned code 4. The message is:\n",
      "Inequality constraints incompatible\n",
      "See scipy.optimize.fmin_slsqp for code meaning.\n",
      "\n",
      "/Users/maximilian/miniconda3/envs/py310/lib/python3.10/site-packages/arch/univariate/base.py:766: ConvergenceWarning: The optimizer returned code 4. The message is:\n",
      "Inequality constraints incompatible\n",
      "See scipy.optimize.fmin_slsqp for code meaning.\n",
      "\n",
      "/Users/maximilian/miniconda3/envs/py310/lib/python3.10/site-packages/arch/univariate/base.py:766: ConvergenceWarning: The optimizer returned code 4. The message is:\n",
      "Inequality constraints incompatible\n",
      "See scipy.optimize.fmin_slsqp for code meaning.\n",
      "\n",
      "/Users/maximilian/miniconda3/envs/py310/lib/python3.10/site-packages/arch/univariate/base.py:766: ConvergenceWarning: The optimizer returned code 4. The message is:\n",
      "Inequality constraints incompatible\n",
      "See scipy.optimize.fmin_slsqp for code meaning.\n",
      "\n"
     ]
    },
    {
     "name": "stdout",
     "output_type": "stream",
     "text": [
      "........"
     ]
    },
    {
     "name": "stderr",
     "output_type": "stream",
     "text": [
      "/Users/maximilian/miniconda3/envs/py310/lib/python3.10/site-packages/arch/univariate/base.py:766: ConvergenceWarning: The optimizer returned code 9. The message is:\n",
      "Iteration limit reached\n",
      "See scipy.optimize.fmin_slsqp for code meaning.\n",
      "\n",
      "/Users/maximilian/miniconda3/envs/py310/lib/python3.10/site-packages/arch/univariate/base.py:766: ConvergenceWarning: The optimizer returned code 9. The message is:\n",
      "Iteration limit reached\n",
      "See scipy.optimize.fmin_slsqp for code meaning.\n",
      "\n",
      "/Users/maximilian/miniconda3/envs/py310/lib/python3.10/site-packages/arch/univariate/base.py:766: ConvergenceWarning: The optimizer returned code 9. The message is:\n",
      "Iteration limit reached\n",
      "See scipy.optimize.fmin_slsqp for code meaning.\n",
      "\n"
     ]
    },
    {
     "name": "stdout",
     "output_type": "stream",
     "text": [
      "......"
     ]
    },
    {
     "name": "stderr",
     "output_type": "stream",
     "text": [
      "/Users/maximilian/miniconda3/envs/py310/lib/python3.10/site-packages/arch/univariate/base.py:766: ConvergenceWarning: The optimizer returned code 4. The message is:\n",
      "Inequality constraints incompatible\n",
      "See scipy.optimize.fmin_slsqp for code meaning.\n",
      "\n",
      "/Users/maximilian/miniconda3/envs/py310/lib/python3.10/site-packages/arch/univariate/base.py:766: ConvergenceWarning: The optimizer returned code 4. The message is:\n",
      "Inequality constraints incompatible\n",
      "See scipy.optimize.fmin_slsqp for code meaning.\n",
      "\n",
      "/Users/maximilian/miniconda3/envs/py310/lib/python3.10/site-packages/arch/univariate/base.py:766: ConvergenceWarning: The optimizer returned code 4. The message is:\n",
      "Inequality constraints incompatible\n",
      "See scipy.optimize.fmin_slsqp for code meaning.\n",
      "\n"
     ]
    },
    {
     "name": "stdout",
     "output_type": "stream",
     "text": [
      "............"
     ]
    },
    {
     "name": "stderr",
     "output_type": "stream",
     "text": [
      "/Users/maximilian/miniconda3/envs/py310/lib/python3.10/site-packages/arch/univariate/base.py:766: ConvergenceWarning: The optimizer returned code 4. The message is:\n",
      "Inequality constraints incompatible\n",
      "See scipy.optimize.fmin_slsqp for code meaning.\n",
      "\n",
      "/Users/maximilian/miniconda3/envs/py310/lib/python3.10/site-packages/arch/univariate/base.py:766: ConvergenceWarning: The optimizer returned code 4. The message is:\n",
      "Inequality constraints incompatible\n",
      "See scipy.optimize.fmin_slsqp for code meaning.\n",
      "\n",
      "/Users/maximilian/miniconda3/envs/py310/lib/python3.10/site-packages/arch/univariate/base.py:766: ConvergenceWarning: The optimizer returned code 4. The message is:\n",
      "Inequality constraints incompatible\n",
      "See scipy.optimize.fmin_slsqp for code meaning.\n",
      "\n"
     ]
    },
    {
     "name": "stdout",
     "output_type": "stream",
     "text": [
      "....................."
     ]
    },
    {
     "name": "stderr",
     "output_type": "stream",
     "text": [
      "/Users/maximilian/miniconda3/envs/py310/lib/python3.10/site-packages/arch/univariate/base.py:766: ConvergenceWarning: The optimizer returned code 8. The message is:\n",
      "Positive directional derivative for linesearch\n",
      "See scipy.optimize.fmin_slsqp for code meaning.\n",
      "\n",
      "/Users/maximilian/miniconda3/envs/py310/lib/python3.10/site-packages/arch/univariate/base.py:766: ConvergenceWarning: The optimizer returned code 8. The message is:\n",
      "Positive directional derivative for linesearch\n",
      "See scipy.optimize.fmin_slsqp for code meaning.\n",
      "\n",
      "/Users/maximilian/miniconda3/envs/py310/lib/python3.10/site-packages/arch/univariate/base.py:766: ConvergenceWarning: The optimizer returned code 8. The message is:\n",
      "Positive directional derivative for linesearch\n",
      "See scipy.optimize.fmin_slsqp for code meaning.\n",
      "\n"
     ]
    },
    {
     "name": "stdout",
     "output_type": "stream",
     "text": [
      "............."
     ]
    },
    {
     "name": "stderr",
     "output_type": "stream",
     "text": [
      "/Users/maximilian/miniconda3/envs/py310/lib/python3.10/site-packages/arch/univariate/base.py:766: ConvergenceWarning: The optimizer returned code 4. The message is:\n",
      "Inequality constraints incompatible\n",
      "See scipy.optimize.fmin_slsqp for code meaning.\n",
      "\n",
      "/Users/maximilian/miniconda3/envs/py310/lib/python3.10/site-packages/arch/univariate/base.py:766: ConvergenceWarning: The optimizer returned code 4. The message is:\n",
      "Inequality constraints incompatible\n",
      "See scipy.optimize.fmin_slsqp for code meaning.\n",
      "\n",
      "/Users/maximilian/miniconda3/envs/py310/lib/python3.10/site-packages/arch/univariate/base.py:766: ConvergenceWarning: The optimizer returned code 4. The message is:\n",
      "Inequality constraints incompatible\n",
      "See scipy.optimize.fmin_slsqp for code meaning.\n",
      "\n",
      "/Users/maximilian/miniconda3/envs/py310/lib/python3.10/site-packages/arch/univariate/base.py:766: ConvergenceWarning: The optimizer returned code 4. The message is:\n",
      "Inequality constraints incompatible\n",
      "See scipy.optimize.fmin_slsqp for code meaning.\n",
      "\n",
      "/Users/maximilian/miniconda3/envs/py310/lib/python3.10/site-packages/arch/univariate/base.py:766: ConvergenceWarning: The optimizer returned code 4. The message is:\n",
      "Inequality constraints incompatible\n",
      "See scipy.optimize.fmin_slsqp for code meaning.\n",
      "\n",
      "/Users/maximilian/miniconda3/envs/py310/lib/python3.10/site-packages/arch/univariate/base.py:766: ConvergenceWarning: The optimizer returned code 4. The message is:\n",
      "Inequality constraints incompatible\n",
      "See scipy.optimize.fmin_slsqp for code meaning.\n",
      "\n",
      "/Users/maximilian/miniconda3/envs/py310/lib/python3.10/site-packages/arch/univariate/base.py:766: ConvergenceWarning: The optimizer returned code 4. The message is:\n",
      "Inequality constraints incompatible\n",
      "See scipy.optimize.fmin_slsqp for code meaning.\n",
      "\n",
      "/Users/maximilian/miniconda3/envs/py310/lib/python3.10/site-packages/arch/univariate/base.py:766: ConvergenceWarning: The optimizer returned code 4. The message is:\n",
      "Inequality constraints incompatible\n",
      "See scipy.optimize.fmin_slsqp for code meaning.\n",
      "\n",
      "/Users/maximilian/miniconda3/envs/py310/lib/python3.10/site-packages/arch/univariate/base.py:766: ConvergenceWarning: The optimizer returned code 4. The message is:\n",
      "Inequality constraints incompatible\n",
      "See scipy.optimize.fmin_slsqp for code meaning.\n",
      "\n"
     ]
    },
    {
     "name": "stdout",
     "output_type": "stream",
     "text": [
      "........."
     ]
    },
    {
     "name": "stderr",
     "output_type": "stream",
     "text": [
      "/Users/maximilian/miniconda3/envs/py310/lib/python3.10/site-packages/arch/univariate/base.py:766: ConvergenceWarning: The optimizer returned code 4. The message is:\n",
      "Inequality constraints incompatible\n",
      "See scipy.optimize.fmin_slsqp for code meaning.\n",
      "\n",
      "/Users/maximilian/miniconda3/envs/py310/lib/python3.10/site-packages/arch/univariate/base.py:766: ConvergenceWarning: The optimizer returned code 4. The message is:\n",
      "Inequality constraints incompatible\n",
      "See scipy.optimize.fmin_slsqp for code meaning.\n",
      "\n",
      "/Users/maximilian/miniconda3/envs/py310/lib/python3.10/site-packages/arch/univariate/base.py:766: ConvergenceWarning: The optimizer returned code 4. The message is:\n",
      "Inequality constraints incompatible\n",
      "See scipy.optimize.fmin_slsqp for code meaning.\n",
      "\n"
     ]
    },
    {
     "name": "stdout",
     "output_type": "stream",
     "text": [
      "....."
     ]
    },
    {
     "name": "stderr",
     "output_type": "stream",
     "text": [
      "/Users/maximilian/miniconda3/envs/py310/lib/python3.10/site-packages/arch/univariate/base.py:766: ConvergenceWarning: The optimizer returned code 4. The message is:\n",
      "Inequality constraints incompatible\n",
      "See scipy.optimize.fmin_slsqp for code meaning.\n",
      "\n",
      "/Users/maximilian/miniconda3/envs/py310/lib/python3.10/site-packages/arch/univariate/base.py:766: ConvergenceWarning: The optimizer returned code 4. The message is:\n",
      "Inequality constraints incompatible\n",
      "See scipy.optimize.fmin_slsqp for code meaning.\n",
      "\n",
      "/Users/maximilian/miniconda3/envs/py310/lib/python3.10/site-packages/arch/univariate/base.py:766: ConvergenceWarning: The optimizer returned code 4. The message is:\n",
      "Inequality constraints incompatible\n",
      "See scipy.optimize.fmin_slsqp for code meaning.\n",
      "\n"
     ]
    },
    {
     "name": "stdout",
     "output_type": "stream",
     "text": [
      "..........."
     ]
    },
    {
     "name": "stderr",
     "output_type": "stream",
     "text": [
      "/Users/maximilian/miniconda3/envs/py310/lib/python3.10/site-packages/arch/univariate/base.py:766: ConvergenceWarning: The optimizer returned code 4. The message is:\n",
      "Inequality constraints incompatible\n",
      "See scipy.optimize.fmin_slsqp for code meaning.\n",
      "\n",
      "/Users/maximilian/miniconda3/envs/py310/lib/python3.10/site-packages/arch/univariate/base.py:766: ConvergenceWarning: The optimizer returned code 4. The message is:\n",
      "Inequality constraints incompatible\n",
      "See scipy.optimize.fmin_slsqp for code meaning.\n",
      "\n",
      "/Users/maximilian/miniconda3/envs/py310/lib/python3.10/site-packages/arch/univariate/base.py:766: ConvergenceWarning: The optimizer returned code 4. The message is:\n",
      "Inequality constraints incompatible\n",
      "See scipy.optimize.fmin_slsqp for code meaning.\n",
      "\n",
      "/Users/maximilian/miniconda3/envs/py310/lib/python3.10/site-packages/arch/univariate/base.py:766: ConvergenceWarning: The optimizer returned code 4. The message is:\n",
      "Inequality constraints incompatible\n",
      "See scipy.optimize.fmin_slsqp for code meaning.\n",
      "\n",
      "/Users/maximilian/miniconda3/envs/py310/lib/python3.10/site-packages/arch/univariate/base.py:766: ConvergenceWarning: The optimizer returned code 4. The message is:\n",
      "Inequality constraints incompatible\n",
      "See scipy.optimize.fmin_slsqp for code meaning.\n",
      "\n",
      "/Users/maximilian/miniconda3/envs/py310/lib/python3.10/site-packages/arch/univariate/base.py:766: ConvergenceWarning: The optimizer returned code 4. The message is:\n",
      "Inequality constraints incompatible\n",
      "See scipy.optimize.fmin_slsqp for code meaning.\n",
      "\n"
     ]
    },
    {
     "name": "stdout",
     "output_type": "stream",
     "text": [
      "........."
     ]
    },
    {
     "name": "stderr",
     "output_type": "stream",
     "text": [
      "/Users/maximilian/miniconda3/envs/py310/lib/python3.10/site-packages/arch/univariate/base.py:766: ConvergenceWarning: The optimizer returned code 4. The message is:\n",
      "Inequality constraints incompatible\n",
      "See scipy.optimize.fmin_slsqp for code meaning.\n",
      "\n",
      "/Users/maximilian/miniconda3/envs/py310/lib/python3.10/site-packages/arch/univariate/base.py:766: ConvergenceWarning: The optimizer returned code 4. The message is:\n",
      "Inequality constraints incompatible\n",
      "See scipy.optimize.fmin_slsqp for code meaning.\n",
      "\n",
      "/Users/maximilian/miniconda3/envs/py310/lib/python3.10/site-packages/arch/univariate/base.py:766: ConvergenceWarning: The optimizer returned code 4. The message is:\n",
      "Inequality constraints incompatible\n",
      "See scipy.optimize.fmin_slsqp for code meaning.\n",
      "\n"
     ]
    },
    {
     "name": "stdout",
     "output_type": "stream",
     "text": [
      "........index 187 is out of bounds for axis 0 with size 187\n",
      "operands could not be broadcast together with shapes (175,) (174,) \n"
     ]
    }
   ],
   "source": [
    "errors = []\n",
    "preds = dict()\n",
    "actuals = dict()\n",
    "for symbol in rs.columns:\n",
    "    sys.stdout.write('.')\n",
    "    sys.stdout.flush()    \n",
    "    try:\n",
    "        actual, predictions = run_model(rs, symbol, keys)\n",
    "        tmp_errors = calc_model_mape(actual, predictions, symbol, keys)\n",
    "        errors.append(tmp_errors)\n",
    "        preds[symbol] = predictions\n",
    "        actuals[symbol] = actual\n",
    "    except Exception as e:\n",
    "        print(e)"
   ]
  },
  {
   "cell_type": "code",
   "execution_count": 53,
   "metadata": {},
   "outputs": [
    {
     "data": {
      "image/png": "[encoded data removed]",
      "text/plain": [
       "<Figure size 1000x700 with 1 Axes>"
      ]
     },
     "metadata": {},
     "output_type": "display_data"
    }
   ],
   "source": [
    "test = pd.DataFrame.from_dict(preds['SPY'])\n",
    "for col in test.columns:\n",
    "    sns.kdeplot(test[col])"
   ]
  },
  {
   "cell_type": "code",
   "execution_count": 54,
   "metadata": {},
   "outputs": [
    {
     "data": {
      "text/html": [
       "<div>\n",
       "<style scoped>\n",
       "    .dataframe tbody tr th:only-of-type {\n",
       "        vertical-align: middle;\n",
       "    }\n",
       "\n",
       "    .dataframe tbody tr th {\n",
       "        vertical-align: top;\n",
       "    }\n",
       "\n",
       "    .dataframe thead th {\n",
       "        text-align: right;\n",
       "    }\n",
       "</style>\n",
       "<table border=\"1\" class=\"dataframe\">\n",
       "  <thead>\n",
       "    <tr style=\"text-align: right;\">\n",
       "      <th></th>\n",
       "      <th>SPY</th>\n",
       "      <th>QQQ</th>\n",
       "      <th>DIA</th>\n",
       "      <th>TLT</th>\n",
       "      <th>GLD</th>\n",
       "      <th>EFA</th>\n",
       "      <th>EEM</th>\n",
       "      <th>BND</th>\n",
       "      <th>VNQ</th>\n",
       "    </tr>\n",
       "  </thead>\n",
       "  <tbody>\n",
       "    <tr>\n",
       "      <th>garch_t</th>\n",
       "      <td>-56.8223</td>\n",
       "      <td>-71.0344</td>\n",
       "      <td>-101.4202</td>\n",
       "      <td>-55.0809</td>\n",
       "      <td>-63.2163</td>\n",
       "      <td>-87.0343</td>\n",
       "      <td>-91.1458</td>\n",
       "      <td>-995.6697</td>\n",
       "      <td>-76.8420</td>\n",
       "    </tr>\n",
       "    <tr>\n",
       "      <th>garch_skewt</th>\n",
       "      <td>-56.9575</td>\n",
       "      <td>-68.2956</td>\n",
       "      <td>-125.5966</td>\n",
       "      <td>-54.9598</td>\n",
       "      <td>-62.9714</td>\n",
       "      <td>-85.1945</td>\n",
       "      <td>-88.6310</td>\n",
       "      <td>-963.3304</td>\n",
       "      <td>-75.5778</td>\n",
       "    </tr>\n",
       "    <tr>\n",
       "      <th>garch_normal</th>\n",
       "      <td>-57.9778</td>\n",
       "      <td>-68.0899</td>\n",
       "      <td>-91.7487</td>\n",
       "      <td>-54.9078</td>\n",
       "      <td>-62.3471</td>\n",
       "      <td>-87.8483</td>\n",
       "      <td>-91.6514</td>\n",
       "      <td>-980.9842</td>\n",
       "      <td>-77.4767</td>\n",
       "    </tr>\n",
       "    <tr>\n",
       "      <th>historical</th>\n",
       "      <td>-67.3777</td>\n",
       "      <td>-81.3073</td>\n",
       "      <td>-63.9804</td>\n",
       "      <td>-55.3640</td>\n",
       "      <td>-63.9373</td>\n",
       "      <td>-76.9352</td>\n",
       "      <td>-98.8663</td>\n",
       "      <td>-71.2527</td>\n",
       "      <td>-97.2830</td>\n",
       "    </tr>\n",
       "    <tr>\n",
       "      <th>gmm</th>\n",
       "      <td>-68.1991</td>\n",
       "      <td>-82.6319</td>\n",
       "      <td>-64.6636</td>\n",
       "      <td>-58.2499</td>\n",
       "      <td>-64.6038</td>\n",
       "      <td>-79.4113</td>\n",
       "      <td>-103.5520</td>\n",
       "      <td>-68.0686</td>\n",
       "      <td>-100.3696</td>\n",
       "    </tr>\n",
       "    <tr>\n",
       "      <th>gkde</th>\n",
       "      <td>-70.7481</td>\n",
       "      <td>-87.1318</td>\n",
       "      <td>-66.6734</td>\n",
       "      <td>-60.0023</td>\n",
       "      <td>-68.2804</td>\n",
       "      <td>-82.1333</td>\n",
       "      <td>-108.4189</td>\n",
       "      <td>-69.0909</td>\n",
       "      <td>-104.8343</td>\n",
       "    </tr>\n",
       "    <tr>\n",
       "      <th>gmm_risky</th>\n",
       "      <td>-115.4458</td>\n",
       "      <td>-138.1524</td>\n",
       "      <td>-108.0471</td>\n",
       "      <td>-71.3657</td>\n",
       "      <td>-102.3944</td>\n",
       "      <td>-147.3323</td>\n",
       "      <td>-157.0947</td>\n",
       "      <td>-63.4583</td>\n",
       "      <td>-149.8951</td>\n",
       "    </tr>\n",
       "  </tbody>\n",
       "</table>\n",
       "</div>"
      ],
      "text/plain": [
       "                   SPY       QQQ       DIA      TLT       GLD       EFA  \\\n",
       "garch_t       -56.8223  -71.0344 -101.4202 -55.0809  -63.2163  -87.0343   \n",
       "garch_skewt   -56.9575  -68.2956 -125.5966 -54.9598  -62.9714  -85.1945   \n",
       "garch_normal  -57.9778  -68.0899  -91.7487 -54.9078  -62.3471  -87.8483   \n",
       "historical    -67.3777  -81.3073  -63.9804 -55.3640  -63.9373  -76.9352   \n",
       "gmm           -68.1991  -82.6319  -64.6636 -58.2499  -64.6038  -79.4113   \n",
       "gkde          -70.7481  -87.1318  -66.6734 -60.0023  -68.2804  -82.1333   \n",
       "gmm_risky    -115.4458 -138.1524 -108.0471 -71.3657 -102.3944 -147.3323   \n",
       "\n",
       "                   EEM       BND       VNQ  \n",
       "garch_t       -91.1458 -995.6697  -76.8420  \n",
       "garch_skewt   -88.6310 -963.3304  -75.5778  \n",
       "garch_normal  -91.6514 -980.9842  -77.4767  \n",
       "historical    -98.8663  -71.2527  -97.2830  \n",
       "gmm          -103.5520  -68.0686 -100.3696  \n",
       "gkde         -108.4189  -69.0909 -104.8343  \n",
       "gmm_risky    -157.0947  -63.4583 -149.8951  "
      ]
     },
     "metadata": {},
     "output_type": "display_data"
    }
   ],
   "source": [
    "error_df = pd.concat(errors,axis=1)    \n",
    "display(error_df)"
   ]
  },
  {
   "cell_type": "code",
   "execution_count": 55,
   "metadata": {},
   "outputs": [
    {
     "data": {
      "text/plain": [
       "historical      -75.1449\n",
       "gmm             -76.6389\n",
       "gkde            -79.7015\n",
       "gmm_risky      -117.0207\n",
       "garch_normal   -174.7813\n",
       "garch_skewt    -175.7238\n",
       "garch_t        -177.5851\n",
       "dtype: float64"
      ]
     },
     "execution_count": 55,
     "metadata": {},
     "output_type": "execute_result"
    }
   ],
   "source": [
    "error_df.mean(1).sort_values()[::-1]"
   ]
  },
  {
   "cell_type": "code",
   "execution_count": 56,
   "metadata": {},
   "outputs": [
    {
     "data": {
      "text/html": [
       "<div>\n",
       "<style scoped>\n",
       "    .dataframe tbody tr th:only-of-type {\n",
       "        vertical-align: middle;\n",
       "    }\n",
       "\n",
       "    .dataframe tbody tr th {\n",
       "        vertical-align: top;\n",
       "    }\n",
       "\n",
       "    .dataframe thead th {\n",
       "        text-align: right;\n",
       "    }\n",
       "</style>\n",
       "<table border=\"1\" class=\"dataframe\">\n",
       "  <thead>\n",
       "    <tr style=\"text-align: right;\">\n",
       "      <th></th>\n",
       "      <th>count</th>\n",
       "      <th>mean</th>\n",
       "      <th>std</th>\n",
       "      <th>min</th>\n",
       "      <th>25%</th>\n",
       "      <th>50%</th>\n",
       "      <th>75%</th>\n",
       "      <th>max</th>\n",
       "    </tr>\n",
       "  </thead>\n",
       "  <tbody>\n",
       "    <tr>\n",
       "      <th>historical</th>\n",
       "      <td>9.0000</td>\n",
       "      <td>-75.1449</td>\n",
       "      <td>15.0458</td>\n",
       "      <td>-98.8663</td>\n",
       "      <td>-81.3073</td>\n",
       "      <td>-71.2527</td>\n",
       "      <td>-63.9804</td>\n",
       "      <td>-55.3640</td>\n",
       "    </tr>\n",
       "    <tr>\n",
       "      <th>gmm</th>\n",
       "      <td>9.0000</td>\n",
       "      <td>-76.6389</td>\n",
       "      <td>16.2101</td>\n",
       "      <td>-103.5520</td>\n",
       "      <td>-82.6319</td>\n",
       "      <td>-68.1991</td>\n",
       "      <td>-64.6636</td>\n",
       "      <td>-58.2499</td>\n",
       "    </tr>\n",
       "    <tr>\n",
       "      <th>gkde</th>\n",
       "      <td>9.0000</td>\n",
       "      <td>-79.7015</td>\n",
       "      <td>17.3149</td>\n",
       "      <td>-108.4189</td>\n",
       "      <td>-87.1318</td>\n",
       "      <td>-70.7481</td>\n",
       "      <td>-68.2804</td>\n",
       "      <td>-60.0023</td>\n",
       "    </tr>\n",
       "    <tr>\n",
       "      <th>gmm_risky</th>\n",
       "      <td>9.0000</td>\n",
       "      <td>-117.0207</td>\n",
       "      <td>34.0996</td>\n",
       "      <td>-157.0947</td>\n",
       "      <td>-147.3323</td>\n",
       "      <td>-115.4458</td>\n",
       "      <td>-102.3944</td>\n",
       "      <td>-63.4583</td>\n",
       "    </tr>\n",
       "    <tr>\n",
       "      <th>garch_normal</th>\n",
       "      <td>9.0000</td>\n",
       "      <td>-174.7813</td>\n",
       "      <td>302.6613</td>\n",
       "      <td>-980.9842</td>\n",
       "      <td>-91.6514</td>\n",
       "      <td>-77.4767</td>\n",
       "      <td>-62.3471</td>\n",
       "      <td>-54.9078</td>\n",
       "    </tr>\n",
       "    <tr>\n",
       "      <th>garch_skewt</th>\n",
       "      <td>9.0000</td>\n",
       "      <td>-175.7238</td>\n",
       "      <td>296.1398</td>\n",
       "      <td>-963.3304</td>\n",
       "      <td>-88.6310</td>\n",
       "      <td>-75.5778</td>\n",
       "      <td>-62.9714</td>\n",
       "      <td>-54.9598</td>\n",
       "    </tr>\n",
       "    <tr>\n",
       "      <th>garch_t</th>\n",
       "      <td>9.0000</td>\n",
       "      <td>-177.5851</td>\n",
       "      <td>307.1864</td>\n",
       "      <td>-995.6697</td>\n",
       "      <td>-91.1458</td>\n",
       "      <td>-76.8420</td>\n",
       "      <td>-63.2163</td>\n",
       "      <td>-55.0809</td>\n",
       "    </tr>\n",
       "  </tbody>\n",
       "</table>\n",
       "</div>"
      ],
      "text/plain": [
       "              count      mean      std       min       25%       50%  \\\n",
       "historical   9.0000  -75.1449  15.0458  -98.8663  -81.3073  -71.2527   \n",
       "gmm          9.0000  -76.6389  16.2101 -103.5520  -82.6319  -68.1991   \n",
       "gkde         9.0000  -79.7015  17.3149 -108.4189  -87.1318  -70.7481   \n",
       "gmm_risky    9.0000 -117.0207  34.0996 -157.0947 -147.3323 -115.4458   \n",
       "garch_normal 9.0000 -174.7813 302.6613 -980.9842  -91.6514  -77.4767   \n",
       "garch_skewt  9.0000 -175.7238 296.1398 -963.3304  -88.6310  -75.5778   \n",
       "garch_t      9.0000 -177.5851 307.1864 -995.6697  -91.1458  -76.8420   \n",
       "\n",
       "                   75%      max  \n",
       "historical    -63.9804 -55.3640  \n",
       "gmm           -64.6636 -58.2499  \n",
       "gkde          -68.2804 -60.0023  \n",
       "gmm_risky    -102.3944 -63.4583  \n",
       "garch_normal  -62.3471 -54.9078  \n",
       "garch_skewt   -62.9714 -54.9598  \n",
       "garch_t       -63.2163 -55.0809  "
      ]
     },
     "execution_count": 56,
     "metadata": {},
     "output_type": "execute_result"
    }
   ],
   "source": [
    "error_df.T.describe().T.sort_values('mean')[::-1]"
   ]
  },
  {
   "cell_type": "code",
   "execution_count": 57,
   "metadata": {},
   "outputs": [
    {
     "data": {
      "text/html": [
       "<div>\n",
       "<style scoped>\n",
       "    .dataframe tbody tr th:only-of-type {\n",
       "        vertical-align: middle;\n",
       "    }\n",
       "\n",
       "    .dataframe tbody tr th {\n",
       "        vertical-align: top;\n",
       "    }\n",
       "\n",
       "    .dataframe thead th {\n",
       "        text-align: right;\n",
       "    }\n",
       "</style>\n",
       "<table border=\"1\" class=\"dataframe\">\n",
       "  <thead>\n",
       "    <tr style=\"text-align: right;\">\n",
       "      <th></th>\n",
       "      <th>count</th>\n",
       "      <th>mean</th>\n",
       "      <th>std</th>\n",
       "      <th>min</th>\n",
       "      <th>25%</th>\n",
       "      <th>50%</th>\n",
       "      <th>75%</th>\n",
       "      <th>max</th>\n",
       "    </tr>\n",
       "  </thead>\n",
       "  <tbody>\n",
       "    <tr>\n",
       "      <th>gmm</th>\n",
       "      <td>9.0000</td>\n",
       "      <td>-76.6389</td>\n",
       "      <td>16.2101</td>\n",
       "      <td>-103.5520</td>\n",
       "      <td>-82.6319</td>\n",
       "      <td>-68.1991</td>\n",
       "      <td>-64.6636</td>\n",
       "      <td>-58.2499</td>\n",
       "    </tr>\n",
       "    <tr>\n",
       "      <th>gkde</th>\n",
       "      <td>9.0000</td>\n",
       "      <td>-79.7015</td>\n",
       "      <td>17.3149</td>\n",
       "      <td>-108.4189</td>\n",
       "      <td>-87.1318</td>\n",
       "      <td>-70.7481</td>\n",
       "      <td>-68.2804</td>\n",
       "      <td>-60.0023</td>\n",
       "    </tr>\n",
       "    <tr>\n",
       "      <th>historical</th>\n",
       "      <td>9.0000</td>\n",
       "      <td>-75.1449</td>\n",
       "      <td>15.0458</td>\n",
       "      <td>-98.8663</td>\n",
       "      <td>-81.3073</td>\n",
       "      <td>-71.2527</td>\n",
       "      <td>-63.9804</td>\n",
       "      <td>-55.3640</td>\n",
       "    </tr>\n",
       "    <tr>\n",
       "      <th>garch_skewt</th>\n",
       "      <td>9.0000</td>\n",
       "      <td>-175.7238</td>\n",
       "      <td>296.1398</td>\n",
       "      <td>-963.3304</td>\n",
       "      <td>-88.6310</td>\n",
       "      <td>-75.5778</td>\n",
       "      <td>-62.9714</td>\n",
       "      <td>-54.9598</td>\n",
       "    </tr>\n",
       "    <tr>\n",
       "      <th>garch_t</th>\n",
       "      <td>9.0000</td>\n",
       "      <td>-177.5851</td>\n",
       "      <td>307.1864</td>\n",
       "      <td>-995.6697</td>\n",
       "      <td>-91.1458</td>\n",
       "      <td>-76.8420</td>\n",
       "      <td>-63.2163</td>\n",
       "      <td>-55.0809</td>\n",
       "    </tr>\n",
       "    <tr>\n",
       "      <th>garch_normal</th>\n",
       "      <td>9.0000</td>\n",
       "      <td>-174.7813</td>\n",
       "      <td>302.6613</td>\n",
       "      <td>-980.9842</td>\n",
       "      <td>-91.6514</td>\n",
       "      <td>-77.4767</td>\n",
       "      <td>-62.3471</td>\n",
       "      <td>-54.9078</td>\n",
       "    </tr>\n",
       "    <tr>\n",
       "      <th>gmm_risky</th>\n",
       "      <td>9.0000</td>\n",
       "      <td>-117.0207</td>\n",
       "      <td>34.0996</td>\n",
       "      <td>-157.0947</td>\n",
       "      <td>-147.3323</td>\n",
       "      <td>-115.4458</td>\n",
       "      <td>-102.3944</td>\n",
       "      <td>-63.4583</td>\n",
       "    </tr>\n",
       "  </tbody>\n",
       "</table>\n",
       "</div>"
      ],
      "text/plain": [
       "              count      mean      std       min       25%       50%  \\\n",
       "gmm          9.0000  -76.6389  16.2101 -103.5520  -82.6319  -68.1991   \n",
       "gkde         9.0000  -79.7015  17.3149 -108.4189  -87.1318  -70.7481   \n",
       "historical   9.0000  -75.1449  15.0458  -98.8663  -81.3073  -71.2527   \n",
       "garch_skewt  9.0000 -175.7238 296.1398 -963.3304  -88.6310  -75.5778   \n",
       "garch_t      9.0000 -177.5851 307.1864 -995.6697  -91.1458  -76.8420   \n",
       "garch_normal 9.0000 -174.7813 302.6613 -980.9842  -91.6514  -77.4767   \n",
       "gmm_risky    9.0000 -117.0207  34.0996 -157.0947 -147.3323 -115.4458   \n",
       "\n",
       "                   75%      max  \n",
       "gmm           -64.6636 -58.2499  \n",
       "gkde          -68.2804 -60.0023  \n",
       "historical    -63.9804 -55.3640  \n",
       "garch_skewt   -62.9714 -54.9598  \n",
       "garch_t       -63.2163 -55.0809  \n",
       "garch_normal  -62.3471 -54.9078  \n",
       "gmm_risky    -102.3944 -63.4583  "
      ]
     },
     "execution_count": 57,
     "metadata": {},
     "output_type": "execute_result"
    }
   ],
   "source": [
    "error_df.T.describe().T.sort_values('50%')[::-1]"
   ]
  },
  {
   "cell_type": "markdown",
   "metadata": {},
   "source": [
    "## Conclusions"
   ]
  },
  {
   "cell_type": "markdown",
   "metadata": {},
   "source": [
    "Surprisingly the `historical` model was the top ranked in terms of VAR accuracy when looking at the average `mape` score, followed by the full `gmm` model (using 2 components). As expected on average the `gmm_risky` is the worst performer due to the VAR being calculated using only the most volatile component."
   ]
  },
  {
   "cell_type": "code",
   "execution_count": null,
   "metadata": {},
   "outputs": [],
   "source": []
  }
 ],
 "metadata": {
  "kernelspec": {
   "display_name": "py310",
   "language": "python",
   "name": "python3"
  },
  "language_info": {
   "codemirror_mode": {
    "name": "ipython",
    "version": 3
   },
   "file_extension": ".py",
   "mimetype": "text/x-python",
   "name": "python",
   "nbconvert_exporter": "python",
   "pygments_lexer": "ipython3",
   "version": "3.10.12"
  },
  "orig_nbformat": 4
 },
 "nbformat": 4,
 "nbformat_minor": 2
}
